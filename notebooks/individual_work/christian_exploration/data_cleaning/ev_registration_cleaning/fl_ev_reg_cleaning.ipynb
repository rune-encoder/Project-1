{
 "cells": [
  {
   "cell_type": "code",
   "execution_count": 1,
   "metadata": {},
   "outputs": [],
   "source": [
    "from pathlib import Path\n",
    "import datetime as dt\n",
    "import pandas as pd"
   ]
  },
  {
   "cell_type": "markdown",
   "metadata": {},
   "source": [
    "#### Florida EV Vehicle Registration: Raw Dataset"
   ]
  },
  {
   "cell_type": "code",
   "execution_count": 2,
   "metadata": {},
   "outputs": [
    {
     "name": "stdout",
     "output_type": "stream",
     "text": [
      "Shape: (353974, 7)\n"
     ]
    },
    {
     "data": {
      "text/html": [
       "<div>\n",
       "<style scoped>\n",
       "    .dataframe tbody tr th:only-of-type {\n",
       "        vertical-align: middle;\n",
       "    }\n",
       "\n",
       "    .dataframe tbody tr th {\n",
       "        vertical-align: top;\n",
       "    }\n",
       "\n",
       "    .dataframe thead th {\n",
       "        text-align: right;\n",
       "    }\n",
       "</style>\n",
       "<table border=\"1\" class=\"dataframe\">\n",
       "  <thead>\n",
       "    <tr style=\"text-align: right;\">\n",
       "      <th></th>\n",
       "      <th>DMV ID</th>\n",
       "      <th>DMV Snapshot (Date)</th>\n",
       "      <th>County</th>\n",
       "      <th>Vehicle Name</th>\n",
       "      <th>Registration Valid Date</th>\n",
       "      <th>Registration Expiration Date</th>\n",
       "      <th>Technology</th>\n",
       "    </tr>\n",
       "  </thead>\n",
       "  <tbody>\n",
       "    <tr>\n",
       "      <th>0</th>\n",
       "      <td>1</td>\n",
       "      <td>Registration Data from FPL (6/30/2018)</td>\n",
       "      <td>Dade</td>\n",
       "      <td>Tesla Model X</td>\n",
       "      <td>2018-06-30</td>\n",
       "      <td>NaN</td>\n",
       "      <td>BEV</td>\n",
       "    </tr>\n",
       "    <tr>\n",
       "      <th>1</th>\n",
       "      <td>1</td>\n",
       "      <td>Registration Data from FPL (6/30/2018)</td>\n",
       "      <td>Dade</td>\n",
       "      <td>Tesla Model X</td>\n",
       "      <td>2018-06-30</td>\n",
       "      <td>NaN</td>\n",
       "      <td>BEV</td>\n",
       "    </tr>\n",
       "    <tr>\n",
       "      <th>2</th>\n",
       "      <td>1</td>\n",
       "      <td>Registration Data from FPL (6/30/2018)</td>\n",
       "      <td>Dade</td>\n",
       "      <td>Tesla Model X</td>\n",
       "      <td>2018-06-30</td>\n",
       "      <td>NaN</td>\n",
       "      <td>BEV</td>\n",
       "    </tr>\n",
       "    <tr>\n",
       "      <th>3</th>\n",
       "      <td>1</td>\n",
       "      <td>Registration Data from FPL (6/30/2018)</td>\n",
       "      <td>Dade</td>\n",
       "      <td>Tesla Model X</td>\n",
       "      <td>2018-06-30</td>\n",
       "      <td>NaN</td>\n",
       "      <td>BEV</td>\n",
       "    </tr>\n",
       "    <tr>\n",
       "      <th>4</th>\n",
       "      <td>1</td>\n",
       "      <td>Registration Data from FPL (6/30/2018)</td>\n",
       "      <td>Dade</td>\n",
       "      <td>Tesla Model X</td>\n",
       "      <td>2018-06-30</td>\n",
       "      <td>NaN</td>\n",
       "      <td>BEV</td>\n",
       "    </tr>\n",
       "  </tbody>\n",
       "</table>\n",
       "</div>"
      ],
      "text/plain": [
       "   DMV ID                     DMV Snapshot (Date) County   Vehicle Name  \\\n",
       "0       1  Registration Data from FPL (6/30/2018)   Dade  Tesla Model X   \n",
       "1       1  Registration Data from FPL (6/30/2018)   Dade  Tesla Model X   \n",
       "2       1  Registration Data from FPL (6/30/2018)   Dade  Tesla Model X   \n",
       "3       1  Registration Data from FPL (6/30/2018)   Dade  Tesla Model X   \n",
       "4       1  Registration Data from FPL (6/30/2018)   Dade  Tesla Model X   \n",
       "\n",
       "  Registration Valid Date  Registration Expiration Date Technology  \n",
       "0              2018-06-30                           NaN        BEV  \n",
       "1              2018-06-30                           NaN        BEV  \n",
       "2              2018-06-30                           NaN        BEV  \n",
       "3              2018-06-30                           NaN        BEV  \n",
       "4              2018-06-30                           NaN        BEV  "
      ]
     },
     "metadata": {},
     "output_type": "display_data"
    }
   ],
   "source": [
    "df = pd.read_csv(\n",
    "    Path(\"../../../../../data/raw_data/fl_ev_registrations_public.csv\"),\n",
    "    parse_dates=[\"Registration Valid Date\"],\n",
    "    date_format=\"%m/%d/%Y\"\n",
    ")\n",
    "\n",
    "print(\"Shape:\", df.shape)\n",
    "display(df.head())"
   ]
  },
  {
   "cell_type": "code",
   "execution_count": 3,
   "metadata": {},
   "outputs": [
    {
     "name": "stdout",
     "output_type": "stream",
     "text": [
      "0 DMV ID\n",
      "1 DMV Snapshot (Date)\n",
      "2 County\n",
      "3 Vehicle Name\n",
      "4 Registration Valid Date\n",
      "5 Registration Expiration Date\n",
      "6 Technology\n"
     ]
    }
   ],
   "source": [
    "for index, value in enumerate(df.columns):\n",
    "    print(index, value)"
   ]
  },
  {
   "cell_type": "code",
   "execution_count": 4,
   "metadata": {},
   "outputs": [
    {
     "name": "stdout",
     "output_type": "stream",
     "text": [
      "<class 'pandas.core.frame.DataFrame'>\n",
      "RangeIndex: 353974 entries, 0 to 353973\n",
      "Data columns (total 7 columns):\n",
      " #   Column                        Non-Null Count   Dtype         \n",
      "---  ------                        --------------   -----         \n",
      " 0   DMV ID                        353974 non-null  int64         \n",
      " 1   DMV Snapshot (Date)           353974 non-null  object        \n",
      " 2   County                        353974 non-null  object        \n",
      " 3   Vehicle Name                  353974 non-null  object        \n",
      " 4   Registration Valid Date       353974 non-null  datetime64[ns]\n",
      " 5   Registration Expiration Date  0 non-null       float64       \n",
      " 6   Technology                    353754 non-null  object        \n",
      "dtypes: datetime64[ns](1), float64(1), int64(1), object(4)\n",
      "memory usage: 18.9+ MB\n"
     ]
    }
   ],
   "source": [
    "df.info()"
   ]
  },
  {
   "cell_type": "code",
   "execution_count": 5,
   "metadata": {},
   "outputs": [
    {
     "data": {
      "text/plain": [
       "array(['Alachua', 'Baker', 'Bay', 'Bradford', 'Brevard', 'Broward',\n",
       "       'Calhoun', 'Charlotte', 'Citrus', 'Clay', 'Collier', 'Columbia',\n",
       "       'Dade', 'Desoto', 'Dixie', 'Duval', 'Escambia', 'Flagler',\n",
       "       'Franklin', 'Gadsden', 'Gadsen', 'Gilchrist', 'Glades', 'Gulf',\n",
       "       'Hamilton', 'Hardee', 'Hendry', 'Hernando', 'Highlands',\n",
       "       'Hillsborough', 'Holmes', 'Indian River', 'Jackson', 'Jefferson',\n",
       "       'Lake', 'Lee', 'Leon', 'Levy', 'Liberty', 'Madison', 'Manatee',\n",
       "       'Marion', 'Martin', 'Monroe', 'Nassau', 'Okaloosa', 'Okeechobee',\n",
       "       'Orange', 'Osceola', 'Other', 'Palm Beach', 'Pasco', 'Pinellas',\n",
       "       'Polk', 'Putnam', 'Santa Rosa', 'Sarasota', 'Seminole',\n",
       "       'St. Johns', 'St. Lucie', 'Sumter', 'Suwannee', 'Taylor', 'Union',\n",
       "       'Unknown', 'Volusia', 'Wakulla', 'Walton', 'Washington'],\n",
       "      dtype=object)"
      ]
     },
     "execution_count": 5,
     "metadata": {},
     "output_type": "execute_result"
    }
   ],
   "source": [
    "# Check if there are any missing values (Unknown)\n",
    "# Check to see if county values are different from our Zip Code Data\n",
    "# Reference https://www.unitedstateszipcodes.org/fl/\n",
    "\n",
    "df[\"County\"].sort_values().unique()"
   ]
  },
  {
   "cell_type": "markdown",
   "metadata": {},
   "source": [
    "**Note:**  \n",
    "    - Ensure County Values are the same in the Main Dataset and Zip Code Data.  \n",
    "    - Necessary to obtain Zip Codes later..."
   ]
  },
  {
   "cell_type": "code",
   "execution_count": 6,
   "metadata": {},
   "outputs": [
    {
     "data": {
      "text/plain": [
       "array(['Alachua County', 'Baker County', 'Bay County', 'Bradford County',\n",
       "       'Brevard County', 'Broward County', 'Calhoun County',\n",
       "       'Charlotte County', 'Citrus County', 'Clay County',\n",
       "       'Collier County', 'Columbia County', 'Desoto County',\n",
       "       'Dixie County', 'Duval County', 'Escambia County',\n",
       "       'Flagler County', 'Franklin County', 'Gadsden County',\n",
       "       'Gilchrist County', 'Glades County', 'Gulf County',\n",
       "       'Hamilton County', 'Hardee County', 'Hendry County',\n",
       "       'Hernando County', 'Highlands County', 'Hillsborough County',\n",
       "       'Holmes County', 'Indian River County', 'Jackson County',\n",
       "       'Jefferson County', 'Lake County', 'Lee County', 'Leon County',\n",
       "       'Levy County', 'Liberty County', 'Madison County',\n",
       "       'Manatee County', 'Marion County', 'Martin County',\n",
       "       'Miami-Dade County', 'Monroe County', 'Nassau County',\n",
       "       'Okaloosa County', 'Okeechobee County', 'Orange County',\n",
       "       'Osceola County', 'Palm Beach County', 'Pasco County',\n",
       "       'Pinellas County', 'Polk County', 'Putnam County',\n",
       "       'Santa Rosa County', 'Sarasota County', 'Seminole County',\n",
       "       'St. Johns County', 'St. Lucie County', 'Sumter County',\n",
       "       'Suwannee County', 'Taylor County', 'Union County', 'Unknown',\n",
       "       'Volusia County', 'Wakulla County', 'Walton County',\n",
       "       'Washington County'], dtype=object)"
      ]
     },
     "execution_count": 6,
     "metadata": {},
     "output_type": "execute_result"
    }
   ],
   "source": [
    "# Correct the county name values to match the values from the ZIP code data\n",
    "# Reference https://www.unitedstateszipcodes.org/fl/\n",
    "\n",
    "# Define for values to be corrected\n",
    "county_corrections = {\n",
    "    \"Unknown\": \"Unknown\",\n",
    "    \"Other\": \"Unknown\",\n",
    "    \"Dade\": \"Miami-Dade County\",\n",
    "    \"Gadsen\": \"Gadsden County\"\n",
    "}\n",
    "\n",
    "# Apply the corrections and add \" County\" for other values\n",
    "df[\"County\"] = df[\"County\"].map(lambda x: county_corrections.get(x, x.strip() + \" County\"))\n",
    "\n",
    "# Print the modified DataFrame for verification\n",
    "df[\"County\"].sort_values().unique()"
   ]
  },
  {
   "cell_type": "code",
   "execution_count": 7,
   "metadata": {},
   "outputs": [
    {
     "data": {
      "text/plain": [
       "10611"
      ]
     },
     "execution_count": 7,
     "metadata": {},
     "output_type": "execute_result"
    }
   ],
   "source": [
    "# Count County values that are Unknown\n",
    "df.loc[df[\"County\"] == \"Unknown\", \"County\"].count()"
   ]
  },
  {
   "cell_type": "markdown",
   "metadata": {},
   "source": [
    "#### Florida Zip Code: Raw Dataset"
   ]
  },
  {
   "cell_type": "code",
   "execution_count": 8,
   "metadata": {},
   "outputs": [
    {
     "name": "stdout",
     "output_type": "stream",
     "text": [
      "Shape: (1495, 5)\n"
     ]
    },
    {
     "data": {
      "text/html": [
       "<div>\n",
       "<style scoped>\n",
       "    .dataframe tbody tr th:only-of-type {\n",
       "        vertical-align: middle;\n",
       "    }\n",
       "\n",
       "    .dataframe tbody tr th {\n",
       "        vertical-align: top;\n",
       "    }\n",
       "\n",
       "    .dataframe thead th {\n",
       "        text-align: right;\n",
       "    }\n",
       "</style>\n",
       "<table border=\"1\" class=\"dataframe\">\n",
       "  <thead>\n",
       "    <tr style=\"text-align: right;\">\n",
       "      <th></th>\n",
       "      <th>Zip Code</th>\n",
       "      <th>Type</th>\n",
       "      <th>Cities</th>\n",
       "      <th>County</th>\n",
       "      <th>Area Codes</th>\n",
       "    </tr>\n",
       "  </thead>\n",
       "  <tbody>\n",
       "    <tr>\n",
       "      <th>0</th>\n",
       "      <td>32003</td>\n",
       "      <td>Standard</td>\n",
       "      <td>Fleming Island, Fleming Isle, Orange Park</td>\n",
       "      <td>Clay County</td>\n",
       "      <td>Area Code 904</td>\n",
       "    </tr>\n",
       "    <tr>\n",
       "      <th>1</th>\n",
       "      <td>32004</td>\n",
       "      <td>PO Box</td>\n",
       "      <td>Ponte Vedra Beach, Ponte Vedra</td>\n",
       "      <td>St. Johns County</td>\n",
       "      <td>Area Code 904</td>\n",
       "    </tr>\n",
       "    <tr>\n",
       "      <th>2</th>\n",
       "      <td>32006</td>\n",
       "      <td>PO Box</td>\n",
       "      <td>Fleming Island, Fleming Isle, Orange Park</td>\n",
       "      <td>Clay County</td>\n",
       "      <td>Area Code 904</td>\n",
       "    </tr>\n",
       "    <tr>\n",
       "      <th>3</th>\n",
       "      <td>32007</td>\n",
       "      <td>PO Box</td>\n",
       "      <td>Bostwick</td>\n",
       "      <td>Putnam County</td>\n",
       "      <td>Area Code 386</td>\n",
       "    </tr>\n",
       "    <tr>\n",
       "      <th>4</th>\n",
       "      <td>32008</td>\n",
       "      <td>Standard</td>\n",
       "      <td>Branford</td>\n",
       "      <td>Suwannee County</td>\n",
       "      <td>Area Code 352, Area Code 386</td>\n",
       "    </tr>\n",
       "  </tbody>\n",
       "</table>\n",
       "</div>"
      ],
      "text/plain": [
       "   Zip Code      Type                                     Cities  \\\n",
       "0     32003  Standard  Fleming Island, Fleming Isle, Orange Park   \n",
       "1     32004    PO Box             Ponte Vedra Beach, Ponte Vedra   \n",
       "2     32006    PO Box  Fleming Island, Fleming Isle, Orange Park   \n",
       "3     32007    PO Box                                   Bostwick   \n",
       "4     32008  Standard                                   Branford   \n",
       "\n",
       "             County                    Area Codes  \n",
       "0       Clay County                 Area Code 904  \n",
       "1  St. Johns County                 Area Code 904  \n",
       "2       Clay County                 Area Code 904  \n",
       "3     Putnam County                 Area Code 386  \n",
       "4   Suwannee County  Area Code 352, Area Code 386  "
      ]
     },
     "metadata": {},
     "output_type": "display_data"
    }
   ],
   "source": [
    "# Obtain the Zip Codes for each County in Florida\n",
    "fl_zip_df = pd.read_csv(\n",
    "    Path(\"../../../../../data/processed_data/fl_zipcodes.csv\"),\n",
    ")\n",
    "\n",
    "print(\"Shape:\", fl_zip_df.shape)\n",
    "display(fl_zip_df.head())"
   ]
  },
  {
   "cell_type": "code",
   "execution_count": 9,
   "metadata": {},
   "outputs": [
    {
     "name": "stdout",
     "output_type": "stream",
     "text": [
      "Total unique values in `df['County'`]: 67\n",
      "Values in `df['County']` also in `fl_zip_df['County']`: 66\n",
      "Values in `df['County']` not in `fl_zip_df['County']`: 1\n"
     ]
    }
   ],
   "source": [
    "# Compare both DataFrames to ensure values our our main DataFrame are in the ZIP code DataFrame\n",
    "\n",
    "# Get unique county values from both DataFrames\n",
    "unique_counties_main_df = df[\"County\"].sort_values().unique()\n",
    "unique_counties_zip_df = fl_zip_df[\"County\"].sort_values().unique()\n",
    "\n",
    "# Convert to sets for comparison\n",
    "set_counties_main_df = set(unique_counties_main_df)\n",
    "set_counties_zip_df = set(unique_counties_zip_df)\n",
    "\n",
    "# Count total unique values in the main DataFrame\n",
    "total_unique_counties_main_df = len(set_counties_main_df)\n",
    "\n",
    "# Count values in the main DataFrame that ARE also in the ZIP code DataFrame\n",
    "# Intersection: Finds common elements between two sets\n",
    "common_counties = set_counties_main_df.intersection(set_counties_zip_df)\n",
    "count_common_counties = len(common_counties)\n",
    "\n",
    "# Count values in the main DataFrame that ARE NOT in the ZIP code DataFrame\n",
    "# Difference: Finds elements that are in the first set but not in the second set\n",
    "unique_counties_to_main_df = set_counties_main_df.difference(set_counties_zip_df)\n",
    "count_unique_counties_to_main_df = len(unique_counties_to_main_df)\n",
    "\n",
    "print(f\"Total unique values in `df['County'`]: {total_unique_counties_main_df}\")\n",
    "print(f\"Values in `df['County']` also in `fl_zip_df['County']`: {count_common_counties}\")\n",
    "print(f\"Values in `df['County']` not in `fl_zip_df['County']`: {count_unique_counties_to_main_df}\")"
   ]
  },
  {
   "cell_type": "markdown",
   "metadata": {},
   "source": [
    "##### Main Dataset: Create Zip Code Column"
   ]
  },
  {
   "cell_type": "code",
   "execution_count": 10,
   "metadata": {},
   "outputs": [],
   "source": [
    "# Create a new column in the main DataFrame to store the ZIP codes for each County\n",
    "def add_zipcodes(df, zipcodes_df):\n",
    "    # Group by County and aggregate zip codes into a list\n",
    "    zipcodes_grouped = zipcodes_df.groupby('County')['Zip Code'].apply(list).reset_index()\n",
    "    \n",
    "    # Merge the Main DataFrame with the zip codes DataFrame\n",
    "    # Keep the 'County' and 'Zip Code' columns from the zip codes DataFrame\n",
    "    df = df.merge(zipcodes_grouped, how=\"left\", left_on=\"County\", right_on=\"County\")\n",
    "\n",
    "    display(df)\n",
    "\n",
    "    return df"
   ]
  },
  {
   "cell_type": "code",
   "execution_count": 11,
   "metadata": {},
   "outputs": [
    {
     "data": {
      "text/html": [
       "<div>\n",
       "<style scoped>\n",
       "    .dataframe tbody tr th:only-of-type {\n",
       "        vertical-align: middle;\n",
       "    }\n",
       "\n",
       "    .dataframe tbody tr th {\n",
       "        vertical-align: top;\n",
       "    }\n",
       "\n",
       "    .dataframe thead th {\n",
       "        text-align: right;\n",
       "    }\n",
       "</style>\n",
       "<table border=\"1\" class=\"dataframe\">\n",
       "  <thead>\n",
       "    <tr style=\"text-align: right;\">\n",
       "      <th></th>\n",
       "      <th>DMV ID</th>\n",
       "      <th>DMV Snapshot (Date)</th>\n",
       "      <th>County</th>\n",
       "      <th>Vehicle Name</th>\n",
       "      <th>Registration Valid Date</th>\n",
       "      <th>Registration Expiration Date</th>\n",
       "      <th>Technology</th>\n",
       "      <th>Zip Code</th>\n",
       "    </tr>\n",
       "  </thead>\n",
       "  <tbody>\n",
       "    <tr>\n",
       "      <th>0</th>\n",
       "      <td>1</td>\n",
       "      <td>Registration Data from FPL (6/30/2018)</td>\n",
       "      <td>Miami-Dade County</td>\n",
       "      <td>Tesla Model X</td>\n",
       "      <td>2018-06-30</td>\n",
       "      <td>NaN</td>\n",
       "      <td>BEV</td>\n",
       "      <td>[33002, 33010, 33011, 33012, 33013, 33014, 330...</td>\n",
       "    </tr>\n",
       "    <tr>\n",
       "      <th>1</th>\n",
       "      <td>1</td>\n",
       "      <td>Registration Data from FPL (6/30/2018)</td>\n",
       "      <td>Miami-Dade County</td>\n",
       "      <td>Tesla Model X</td>\n",
       "      <td>2018-06-30</td>\n",
       "      <td>NaN</td>\n",
       "      <td>BEV</td>\n",
       "      <td>[33002, 33010, 33011, 33012, 33013, 33014, 330...</td>\n",
       "    </tr>\n",
       "    <tr>\n",
       "      <th>2</th>\n",
       "      <td>1</td>\n",
       "      <td>Registration Data from FPL (6/30/2018)</td>\n",
       "      <td>Miami-Dade County</td>\n",
       "      <td>Tesla Model X</td>\n",
       "      <td>2018-06-30</td>\n",
       "      <td>NaN</td>\n",
       "      <td>BEV</td>\n",
       "      <td>[33002, 33010, 33011, 33012, 33013, 33014, 330...</td>\n",
       "    </tr>\n",
       "    <tr>\n",
       "      <th>3</th>\n",
       "      <td>1</td>\n",
       "      <td>Registration Data from FPL (6/30/2018)</td>\n",
       "      <td>Miami-Dade County</td>\n",
       "      <td>Tesla Model X</td>\n",
       "      <td>2018-06-30</td>\n",
       "      <td>NaN</td>\n",
       "      <td>BEV</td>\n",
       "      <td>[33002, 33010, 33011, 33012, 33013, 33014, 330...</td>\n",
       "    </tr>\n",
       "    <tr>\n",
       "      <th>4</th>\n",
       "      <td>1</td>\n",
       "      <td>Registration Data from FPL (6/30/2018)</td>\n",
       "      <td>Miami-Dade County</td>\n",
       "      <td>Tesla Model X</td>\n",
       "      <td>2018-06-30</td>\n",
       "      <td>NaN</td>\n",
       "      <td>BEV</td>\n",
       "      <td>[33002, 33010, 33011, 33012, 33013, 33014, 330...</td>\n",
       "    </tr>\n",
       "    <tr>\n",
       "      <th>...</th>\n",
       "      <td>...</td>\n",
       "      <td>...</td>\n",
       "      <td>...</td>\n",
       "      <td>...</td>\n",
       "      <td>...</td>\n",
       "      <td>...</td>\n",
       "      <td>...</td>\n",
       "      <td>...</td>\n",
       "    </tr>\n",
       "    <tr>\n",
       "      <th>353969</th>\n",
       "      <td>6</td>\n",
       "      <td>Registration Data from FPL (7/19/2021)</td>\n",
       "      <td>Miami-Dade County</td>\n",
       "      <td>Porsche Cayenne S E-Hybrid</td>\n",
       "      <td>2021-07-19</td>\n",
       "      <td>NaN</td>\n",
       "      <td>PHEV</td>\n",
       "      <td>[33002, 33010, 33011, 33012, 33013, 33014, 330...</td>\n",
       "    </tr>\n",
       "    <tr>\n",
       "      <th>353970</th>\n",
       "      <td>6</td>\n",
       "      <td>Registration Data from FPL (7/19/2021)</td>\n",
       "      <td>Seminole County</td>\n",
       "      <td>Porsche Cayenne S E-Hybrid</td>\n",
       "      <td>2021-07-19</td>\n",
       "      <td>NaN</td>\n",
       "      <td>PHEV</td>\n",
       "      <td>[32701, 32707, 32708, 32714, 32715, 32716, 327...</td>\n",
       "    </tr>\n",
       "    <tr>\n",
       "      <th>353971</th>\n",
       "      <td>6</td>\n",
       "      <td>Registration Data from FPL (7/19/2021)</td>\n",
       "      <td>Unknown</td>\n",
       "      <td>Porsche Cayenne S E-Hybrid</td>\n",
       "      <td>2021-07-19</td>\n",
       "      <td>NaN</td>\n",
       "      <td>PHEV</td>\n",
       "      <td>NaN</td>\n",
       "    </tr>\n",
       "    <tr>\n",
       "      <th>353972</th>\n",
       "      <td>6</td>\n",
       "      <td>Registration Data from FPL (7/19/2021)</td>\n",
       "      <td>Broward County</td>\n",
       "      <td>Porsche Cayenne S E-Hybrid</td>\n",
       "      <td>2021-07-19</td>\n",
       "      <td>NaN</td>\n",
       "      <td>PHEV</td>\n",
       "      <td>[33004, 33008, 33009, 33019, 33020, 33021, 330...</td>\n",
       "    </tr>\n",
       "    <tr>\n",
       "      <th>353973</th>\n",
       "      <td>6</td>\n",
       "      <td>Registration Data from FPL (7/19/2021)</td>\n",
       "      <td>Lee County</td>\n",
       "      <td>Porsche Cayenne S E-Hybrid</td>\n",
       "      <td>2021-07-19</td>\n",
       "      <td>NaN</td>\n",
       "      <td>PHEV</td>\n",
       "      <td>[33900, 33901, 33902, 33903, 33904, 33905, 339...</td>\n",
       "    </tr>\n",
       "  </tbody>\n",
       "</table>\n",
       "<p>353974 rows × 8 columns</p>\n",
       "</div>"
      ],
      "text/plain": [
       "        DMV ID                     DMV Snapshot (Date)             County  \\\n",
       "0            1  Registration Data from FPL (6/30/2018)  Miami-Dade County   \n",
       "1            1  Registration Data from FPL (6/30/2018)  Miami-Dade County   \n",
       "2            1  Registration Data from FPL (6/30/2018)  Miami-Dade County   \n",
       "3            1  Registration Data from FPL (6/30/2018)  Miami-Dade County   \n",
       "4            1  Registration Data from FPL (6/30/2018)  Miami-Dade County   \n",
       "...        ...                                     ...                ...   \n",
       "353969       6  Registration Data from FPL (7/19/2021)  Miami-Dade County   \n",
       "353970       6  Registration Data from FPL (7/19/2021)    Seminole County   \n",
       "353971       6  Registration Data from FPL (7/19/2021)            Unknown   \n",
       "353972       6  Registration Data from FPL (7/19/2021)     Broward County   \n",
       "353973       6  Registration Data from FPL (7/19/2021)         Lee County   \n",
       "\n",
       "                      Vehicle Name Registration Valid Date  \\\n",
       "0                    Tesla Model X              2018-06-30   \n",
       "1                    Tesla Model X              2018-06-30   \n",
       "2                    Tesla Model X              2018-06-30   \n",
       "3                    Tesla Model X              2018-06-30   \n",
       "4                    Tesla Model X              2018-06-30   \n",
       "...                            ...                     ...   \n",
       "353969  Porsche Cayenne S E-Hybrid              2021-07-19   \n",
       "353970  Porsche Cayenne S E-Hybrid              2021-07-19   \n",
       "353971  Porsche Cayenne S E-Hybrid              2021-07-19   \n",
       "353972  Porsche Cayenne S E-Hybrid              2021-07-19   \n",
       "353973  Porsche Cayenne S E-Hybrid              2021-07-19   \n",
       "\n",
       "        Registration Expiration Date Technology  \\\n",
       "0                                NaN        BEV   \n",
       "1                                NaN        BEV   \n",
       "2                                NaN        BEV   \n",
       "3                                NaN        BEV   \n",
       "4                                NaN        BEV   \n",
       "...                              ...        ...   \n",
       "353969                           NaN       PHEV   \n",
       "353970                           NaN       PHEV   \n",
       "353971                           NaN       PHEV   \n",
       "353972                           NaN       PHEV   \n",
       "353973                           NaN       PHEV   \n",
       "\n",
       "                                                 Zip Code  \n",
       "0       [33002, 33010, 33011, 33012, 33013, 33014, 330...  \n",
       "1       [33002, 33010, 33011, 33012, 33013, 33014, 330...  \n",
       "2       [33002, 33010, 33011, 33012, 33013, 33014, 330...  \n",
       "3       [33002, 33010, 33011, 33012, 33013, 33014, 330...  \n",
       "4       [33002, 33010, 33011, 33012, 33013, 33014, 330...  \n",
       "...                                                   ...  \n",
       "353969  [33002, 33010, 33011, 33012, 33013, 33014, 330...  \n",
       "353970  [32701, 32707, 32708, 32714, 32715, 32716, 327...  \n",
       "353971                                                NaN  \n",
       "353972  [33004, 33008, 33009, 33019, 33020, 33021, 330...  \n",
       "353973  [33900, 33901, 33902, 33903, 33904, 33905, 339...  \n",
       "\n",
       "[353974 rows x 8 columns]"
      ]
     },
     "metadata": {},
     "output_type": "display_data"
    },
    {
     "name": "stdout",
     "output_type": "stream",
     "text": [
      "Shape: (353974, 8)\n"
     ]
    },
    {
     "data": {
      "text/html": [
       "<div>\n",
       "<style scoped>\n",
       "    .dataframe tbody tr th:only-of-type {\n",
       "        vertical-align: middle;\n",
       "    }\n",
       "\n",
       "    .dataframe tbody tr th {\n",
       "        vertical-align: top;\n",
       "    }\n",
       "\n",
       "    .dataframe thead th {\n",
       "        text-align: right;\n",
       "    }\n",
       "</style>\n",
       "<table border=\"1\" class=\"dataframe\">\n",
       "  <thead>\n",
       "    <tr style=\"text-align: right;\">\n",
       "      <th></th>\n",
       "      <th>DMV ID</th>\n",
       "      <th>DMV Snapshot (Date)</th>\n",
       "      <th>County</th>\n",
       "      <th>Vehicle Name</th>\n",
       "      <th>Registration Valid Date</th>\n",
       "      <th>Registration Expiration Date</th>\n",
       "      <th>Technology</th>\n",
       "      <th>Zip Code</th>\n",
       "    </tr>\n",
       "  </thead>\n",
       "  <tbody>\n",
       "    <tr>\n",
       "      <th>0</th>\n",
       "      <td>1</td>\n",
       "      <td>Registration Data from FPL (6/30/2018)</td>\n",
       "      <td>Miami-Dade County</td>\n",
       "      <td>Tesla Model X</td>\n",
       "      <td>2018-06-30</td>\n",
       "      <td>NaN</td>\n",
       "      <td>BEV</td>\n",
       "      <td>[33002, 33010, 33011, 33012, 33013, 33014, 330...</td>\n",
       "    </tr>\n",
       "    <tr>\n",
       "      <th>1</th>\n",
       "      <td>1</td>\n",
       "      <td>Registration Data from FPL (6/30/2018)</td>\n",
       "      <td>Miami-Dade County</td>\n",
       "      <td>Tesla Model X</td>\n",
       "      <td>2018-06-30</td>\n",
       "      <td>NaN</td>\n",
       "      <td>BEV</td>\n",
       "      <td>[33002, 33010, 33011, 33012, 33013, 33014, 330...</td>\n",
       "    </tr>\n",
       "  </tbody>\n",
       "</table>\n",
       "</div>"
      ],
      "text/plain": [
       "   DMV ID                     DMV Snapshot (Date)             County  \\\n",
       "0       1  Registration Data from FPL (6/30/2018)  Miami-Dade County   \n",
       "1       1  Registration Data from FPL (6/30/2018)  Miami-Dade County   \n",
       "\n",
       "    Vehicle Name Registration Valid Date  Registration Expiration Date  \\\n",
       "0  Tesla Model X              2018-06-30                           NaN   \n",
       "1  Tesla Model X              2018-06-30                           NaN   \n",
       "\n",
       "  Technology                                           Zip Code  \n",
       "0        BEV  [33002, 33010, 33011, 33012, 33013, 33014, 330...  \n",
       "1        BEV  [33002, 33010, 33011, 33012, 33013, 33014, 330...  "
      ]
     },
     "metadata": {},
     "output_type": "display_data"
    }
   ],
   "source": [
    "# After confirming that the values of County match on both DataFrames, \n",
    "# we can proceed to map the Zip Codes to the main DataFrame\n",
    "df = add_zipcodes(df, fl_zip_df)\n",
    "\n",
    "print(\"Shape:\", df.shape)\n",
    "display(df.head(2))"
   ]
  },
  {
   "cell_type": "code",
   "execution_count": 12,
   "metadata": {},
   "outputs": [
    {
     "data": {
      "text/plain": [
       "10611"
      ]
     },
     "execution_count": 12,
     "metadata": {},
     "output_type": "execute_result"
    }
   ],
   "source": [
    "# Count the number of missing values in the Zip Code column\n",
    "df[\"Zip Code\"].isna().sum()"
   ]
  },
  {
   "cell_type": "markdown",
   "metadata": {},
   "source": [
    "##### Main Dataset: Create State Column"
   ]
  },
  {
   "cell_type": "code",
   "execution_count": 13,
   "metadata": {},
   "outputs": [],
   "source": [
    "# Create a \"State\" column with the value \"FL\" for Florida\n",
    "df[\"State\"] = \"FL\""
   ]
  },
  {
   "cell_type": "markdown",
   "metadata": {},
   "source": [
    "##### Main Dataset: Create a Make and Model Column"
   ]
  },
  {
   "cell_type": "code",
   "execution_count": 14,
   "metadata": {},
   "outputs": [
    {
     "name": "stdout",
     "output_type": "stream",
     "text": [
      "Shape: (353974, 11)\n"
     ]
    },
    {
     "data": {
      "text/html": [
       "<div>\n",
       "<style scoped>\n",
       "    .dataframe tbody tr th:only-of-type {\n",
       "        vertical-align: middle;\n",
       "    }\n",
       "\n",
       "    .dataframe tbody tr th {\n",
       "        vertical-align: top;\n",
       "    }\n",
       "\n",
       "    .dataframe thead th {\n",
       "        text-align: right;\n",
       "    }\n",
       "</style>\n",
       "<table border=\"1\" class=\"dataframe\">\n",
       "  <thead>\n",
       "    <tr style=\"text-align: right;\">\n",
       "      <th></th>\n",
       "      <th>DMV ID</th>\n",
       "      <th>DMV Snapshot (Date)</th>\n",
       "      <th>County</th>\n",
       "      <th>Vehicle Name</th>\n",
       "      <th>Registration Valid Date</th>\n",
       "      <th>Registration Expiration Date</th>\n",
       "      <th>Technology</th>\n",
       "      <th>Zip Code</th>\n",
       "      <th>State</th>\n",
       "      <th>make</th>\n",
       "      <th>model</th>\n",
       "    </tr>\n",
       "  </thead>\n",
       "  <tbody>\n",
       "    <tr>\n",
       "      <th>0</th>\n",
       "      <td>1</td>\n",
       "      <td>Registration Data from FPL (6/30/2018)</td>\n",
       "      <td>Miami-Dade County</td>\n",
       "      <td>Tesla Model X</td>\n",
       "      <td>2018-06-30</td>\n",
       "      <td>NaN</td>\n",
       "      <td>BEV</td>\n",
       "      <td>[33002, 33010, 33011, 33012, 33013, 33014, 330...</td>\n",
       "      <td>FL</td>\n",
       "      <td>Tesla</td>\n",
       "      <td>Model X</td>\n",
       "    </tr>\n",
       "    <tr>\n",
       "      <th>1</th>\n",
       "      <td>1</td>\n",
       "      <td>Registration Data from FPL (6/30/2018)</td>\n",
       "      <td>Miami-Dade County</td>\n",
       "      <td>Tesla Model X</td>\n",
       "      <td>2018-06-30</td>\n",
       "      <td>NaN</td>\n",
       "      <td>BEV</td>\n",
       "      <td>[33002, 33010, 33011, 33012, 33013, 33014, 330...</td>\n",
       "      <td>FL</td>\n",
       "      <td>Tesla</td>\n",
       "      <td>Model X</td>\n",
       "    </tr>\n",
       "  </tbody>\n",
       "</table>\n",
       "</div>"
      ],
      "text/plain": [
       "   DMV ID                     DMV Snapshot (Date)             County  \\\n",
       "0       1  Registration Data from FPL (6/30/2018)  Miami-Dade County   \n",
       "1       1  Registration Data from FPL (6/30/2018)  Miami-Dade County   \n",
       "\n",
       "    Vehicle Name Registration Valid Date  Registration Expiration Date  \\\n",
       "0  Tesla Model X              2018-06-30                           NaN   \n",
       "1  Tesla Model X              2018-06-30                           NaN   \n",
       "\n",
       "  Technology                                           Zip Code State   make  \\\n",
       "0        BEV  [33002, 33010, 33011, 33012, 33013, 33014, 330...    FL  Tesla   \n",
       "1        BEV  [33002, 33010, 33011, 33012, 33013, 33014, 330...    FL  Tesla   \n",
       "\n",
       "     model  \n",
       "0  Model X  \n",
       "1  Model X  "
      ]
     },
     "metadata": {},
     "output_type": "display_data"
    }
   ],
   "source": [
    "# Noticed \"Make\" and \"Model\" are combined in the \"Vehicle Name\" column\n",
    "# We will need to separate them into two columns\n",
    "\n",
    "# `n` parameter is set to 1 to split the string at the first space\n",
    "# `expand=True` returns a DataFrame with the split strings in separate columns\n",
    "df[[\"make\", \"model\"]] = df[\"Vehicle Name\"].str.split(\" \", n=1, expand=True)\n",
    "\n",
    "print(\"Shape:\", df.shape)\n",
    "display(df.head(2))"
   ]
  },
  {
   "cell_type": "markdown",
   "metadata": {},
   "source": [
    "#### Florida EV Vehicle Registration: Processed Dataset"
   ]
  },
  {
   "cell_type": "code",
   "execution_count": 15,
   "metadata": {},
   "outputs": [
    {
     "name": "stdout",
     "output_type": "stream",
     "text": [
      "Shape: (353974, 6)\n"
     ]
    },
    {
     "data": {
      "text/html": [
       "<div>\n",
       "<style scoped>\n",
       "    .dataframe tbody tr th:only-of-type {\n",
       "        vertical-align: middle;\n",
       "    }\n",
       "\n",
       "    .dataframe tbody tr th {\n",
       "        vertical-align: top;\n",
       "    }\n",
       "\n",
       "    .dataframe thead th {\n",
       "        text-align: right;\n",
       "    }\n",
       "</style>\n",
       "<table border=\"1\" class=\"dataframe\">\n",
       "  <thead>\n",
       "    <tr style=\"text-align: right;\">\n",
       "      <th></th>\n",
       "      <th>Registration Valid Date</th>\n",
       "      <th>State</th>\n",
       "      <th>County</th>\n",
       "      <th>Zip Code</th>\n",
       "      <th>make</th>\n",
       "      <th>model</th>\n",
       "    </tr>\n",
       "  </thead>\n",
       "  <tbody>\n",
       "    <tr>\n",
       "      <th>0</th>\n",
       "      <td>2018-06-30</td>\n",
       "      <td>FL</td>\n",
       "      <td>Miami-Dade County</td>\n",
       "      <td>[33002, 33010, 33011, 33012, 33013, 33014, 330...</td>\n",
       "      <td>Tesla</td>\n",
       "      <td>Model X</td>\n",
       "    </tr>\n",
       "    <tr>\n",
       "      <th>1</th>\n",
       "      <td>2018-06-30</td>\n",
       "      <td>FL</td>\n",
       "      <td>Miami-Dade County</td>\n",
       "      <td>[33002, 33010, 33011, 33012, 33013, 33014, 330...</td>\n",
       "      <td>Tesla</td>\n",
       "      <td>Model X</td>\n",
       "    </tr>\n",
       "    <tr>\n",
       "      <th>2</th>\n",
       "      <td>2018-06-30</td>\n",
       "      <td>FL</td>\n",
       "      <td>Miami-Dade County</td>\n",
       "      <td>[33002, 33010, 33011, 33012, 33013, 33014, 330...</td>\n",
       "      <td>Tesla</td>\n",
       "      <td>Model X</td>\n",
       "    </tr>\n",
       "    <tr>\n",
       "      <th>3</th>\n",
       "      <td>2018-06-30</td>\n",
       "      <td>FL</td>\n",
       "      <td>Miami-Dade County</td>\n",
       "      <td>[33002, 33010, 33011, 33012, 33013, 33014, 330...</td>\n",
       "      <td>Tesla</td>\n",
       "      <td>Model X</td>\n",
       "    </tr>\n",
       "    <tr>\n",
       "      <th>4</th>\n",
       "      <td>2018-06-30</td>\n",
       "      <td>FL</td>\n",
       "      <td>Miami-Dade County</td>\n",
       "      <td>[33002, 33010, 33011, 33012, 33013, 33014, 330...</td>\n",
       "      <td>Tesla</td>\n",
       "      <td>Model X</td>\n",
       "    </tr>\n",
       "  </tbody>\n",
       "</table>\n",
       "</div>"
      ],
      "text/plain": [
       "  Registration Valid Date State             County  \\\n",
       "0              2018-06-30    FL  Miami-Dade County   \n",
       "1              2018-06-30    FL  Miami-Dade County   \n",
       "2              2018-06-30    FL  Miami-Dade County   \n",
       "3              2018-06-30    FL  Miami-Dade County   \n",
       "4              2018-06-30    FL  Miami-Dade County   \n",
       "\n",
       "                                            Zip Code   make    model  \n",
       "0  [33002, 33010, 33011, 33012, 33013, 33014, 330...  Tesla  Model X  \n",
       "1  [33002, 33010, 33011, 33012, 33013, 33014, 330...  Tesla  Model X  \n",
       "2  [33002, 33010, 33011, 33012, 33013, 33014, 330...  Tesla  Model X  \n",
       "3  [33002, 33010, 33011, 33012, 33013, 33014, 330...  Tesla  Model X  \n",
       "4  [33002, 33010, 33011, 33012, 33013, 33014, 330...  Tesla  Model X  "
      ]
     },
     "metadata": {},
     "output_type": "display_data"
    }
   ],
   "source": [
    "# Create a new DataFrame with only the columns needed for the analysis\n",
    "select_columns = [\"Registration Valid Date\", \"State\", \"County\", \"Zip Code\", \"make\", \"model\"]\n",
    "\n",
    "df_clean = df.loc[:, select_columns]\n",
    "\n",
    "print(\"Shape:\", df_clean.shape)\n",
    "display(df_clean.head())"
   ]
  },
  {
   "cell_type": "code",
   "execution_count": 16,
   "metadata": {},
   "outputs": [
    {
     "name": "stdout",
     "output_type": "stream",
     "text": [
      "Shape: (353974, 6)\n"
     ]
    },
    {
     "data": {
      "text/html": [
       "<div>\n",
       "<style scoped>\n",
       "    .dataframe tbody tr th:only-of-type {\n",
       "        vertical-align: middle;\n",
       "    }\n",
       "\n",
       "    .dataframe tbody tr th {\n",
       "        vertical-align: top;\n",
       "    }\n",
       "\n",
       "    .dataframe thead th {\n",
       "        text-align: right;\n",
       "    }\n",
       "</style>\n",
       "<table border=\"1\" class=\"dataframe\">\n",
       "  <thead>\n",
       "    <tr style=\"text-align: right;\">\n",
       "      <th></th>\n",
       "      <th>registration_date</th>\n",
       "      <th>state</th>\n",
       "      <th>county</th>\n",
       "      <th>zip_codes</th>\n",
       "      <th>make</th>\n",
       "      <th>model</th>\n",
       "    </tr>\n",
       "  </thead>\n",
       "  <tbody>\n",
       "    <tr>\n",
       "      <th>0</th>\n",
       "      <td>2018-06-30</td>\n",
       "      <td>FL</td>\n",
       "      <td>Miami-Dade County</td>\n",
       "      <td>[33002, 33010, 33011, 33012, 33013, 33014, 330...</td>\n",
       "      <td>Tesla</td>\n",
       "      <td>Model X</td>\n",
       "    </tr>\n",
       "    <tr>\n",
       "      <th>1</th>\n",
       "      <td>2018-06-30</td>\n",
       "      <td>FL</td>\n",
       "      <td>Miami-Dade County</td>\n",
       "      <td>[33002, 33010, 33011, 33012, 33013, 33014, 330...</td>\n",
       "      <td>Tesla</td>\n",
       "      <td>Model X</td>\n",
       "    </tr>\n",
       "    <tr>\n",
       "      <th>2</th>\n",
       "      <td>2018-06-30</td>\n",
       "      <td>FL</td>\n",
       "      <td>Miami-Dade County</td>\n",
       "      <td>[33002, 33010, 33011, 33012, 33013, 33014, 330...</td>\n",
       "      <td>Tesla</td>\n",
       "      <td>Model X</td>\n",
       "    </tr>\n",
       "    <tr>\n",
       "      <th>3</th>\n",
       "      <td>2018-06-30</td>\n",
       "      <td>FL</td>\n",
       "      <td>Miami-Dade County</td>\n",
       "      <td>[33002, 33010, 33011, 33012, 33013, 33014, 330...</td>\n",
       "      <td>Tesla</td>\n",
       "      <td>Model X</td>\n",
       "    </tr>\n",
       "    <tr>\n",
       "      <th>4</th>\n",
       "      <td>2018-06-30</td>\n",
       "      <td>FL</td>\n",
       "      <td>Miami-Dade County</td>\n",
       "      <td>[33002, 33010, 33011, 33012, 33013, 33014, 330...</td>\n",
       "      <td>Tesla</td>\n",
       "      <td>Model X</td>\n",
       "    </tr>\n",
       "  </tbody>\n",
       "</table>\n",
       "</div>"
      ],
      "text/plain": [
       "  registration_date state             county  \\\n",
       "0        2018-06-30    FL  Miami-Dade County   \n",
       "1        2018-06-30    FL  Miami-Dade County   \n",
       "2        2018-06-30    FL  Miami-Dade County   \n",
       "3        2018-06-30    FL  Miami-Dade County   \n",
       "4        2018-06-30    FL  Miami-Dade County   \n",
       "\n",
       "                                           zip_codes   make    model  \n",
       "0  [33002, 33010, 33011, 33012, 33013, 33014, 330...  Tesla  Model X  \n",
       "1  [33002, 33010, 33011, 33012, 33013, 33014, 330...  Tesla  Model X  \n",
       "2  [33002, 33010, 33011, 33012, 33013, 33014, 330...  Tesla  Model X  \n",
       "3  [33002, 33010, 33011, 33012, 33013, 33014, 330...  Tesla  Model X  \n",
       "4  [33002, 33010, 33011, 33012, 33013, 33014, 330...  Tesla  Model X  "
      ]
     },
     "metadata": {},
     "output_type": "display_data"
    }
   ],
   "source": [
    "# Rename columns to manageable names\n",
    "\n",
    "df_clean = df_clean.rename(columns={\n",
    "    \"Registration Valid Date\": \"registration_date\",\n",
    "    \"County\": \"county\",\n",
    "    \"State\": \"state\",\n",
    "    \"Zip Code\": \"zip_codes\",\n",
    "    \"make\": \"make\",\n",
    "    \"model\": \"model\",\n",
    "})\n",
    "\n",
    "print(\"Shape:\", df_clean.shape)\n",
    "display(df_clean.head())"
   ]
  },
  {
   "cell_type": "code",
   "execution_count": 17,
   "metadata": {},
   "outputs": [
    {
     "name": "stdout",
     "output_type": "stream",
     "text": [
      "<class 'pandas.core.frame.DataFrame'>\n",
      "RangeIndex: 353974 entries, 0 to 353973\n",
      "Data columns (total 6 columns):\n",
      " #   Column             Non-Null Count   Dtype         \n",
      "---  ------             --------------   -----         \n",
      " 0   registration_date  353974 non-null  datetime64[ns]\n",
      " 1   state              353974 non-null  object        \n",
      " 2   county             353974 non-null  object        \n",
      " 3   zip_codes          343363 non-null  object        \n",
      " 4   make               353974 non-null  object        \n",
      " 5   model              353974 non-null  object        \n",
      "dtypes: datetime64[ns](1), object(5)\n",
      "memory usage: 16.2+ MB\n"
     ]
    }
   ],
   "source": [
    "# View data types before saving the cleaned data\n",
    "df_clean.info()"
   ]
  },
  {
   "cell_type": "code",
   "execution_count": 18,
   "metadata": {},
   "outputs": [
    {
     "data": {
      "text/plain": [
       "registration_date        0\n",
       "state                    0\n",
       "county                   0\n",
       "zip_codes            10611\n",
       "make                     0\n",
       "model                    0\n",
       "dtype: int64"
      ]
     },
     "execution_count": 18,
     "metadata": {},
     "output_type": "execute_result"
    }
   ],
   "source": [
    "# Count missing values in each column\n",
    "df_clean.isnull().sum()"
   ]
  },
  {
   "cell_type": "code",
   "execution_count": 19,
   "metadata": {},
   "outputs": [],
   "source": [
    "# Create a function to save the DataFrames to CSV files\n",
    "def save_csv_file(df, file_path):\n",
    "    \"\"\" \n",
    "    Save a DataFrame to a CSV file at the specified file path.\n",
    "\n",
    "    Parameters:\n",
    "    - df: DataFrame to save\n",
    "    - file_path: Path to save the CSV file\n",
    "    \"\"\"\n",
    "    \n",
    "    # Check if the parent directory exists\n",
    "    if not file_path.parent.exists():\n",
    "        print(f\"Error: The directory `{file_path.parent}` does not exist.\")\n",
    "        return\n",
    "    \n",
    "    if file_path.exists():\n",
    "        print(f\"File `{file_path.name}` already exists. Overwriting file.\")\n",
    "        file_path.unlink()\n",
    "    \n",
    "    # Save the DataFrame to the specified file path\n",
    "    df.to_csv(file_path, index=False)\n",
    "    print(f\"File saved as `{file_path.name}`\")"
   ]
  },
  {
   "cell_type": "code",
   "execution_count": 20,
   "metadata": {},
   "outputs": [
    {
     "name": "stdout",
     "output_type": "stream",
     "text": [
      "File `fl_ev_registrations.csv` already exists. Overwriting file.\n",
      "File saved as `fl_ev_registrations.csv`\n"
     ]
    }
   ],
   "source": [
    "# Export to a new CSV file\n",
    "file_name = \"fl_ev_registrations.csv\"\n",
    "file_path = Path(f\"../../../../../data/processed_data/{file_name}\")\n",
    "save_csv_file(df_clean, file_path)"
   ]
  },
  {
   "cell_type": "code",
   "execution_count": null,
   "metadata": {},
   "outputs": [],
   "source": []
  }
 ],
 "metadata": {
  "kernelspec": {
   "display_name": "dev",
   "language": "python",
   "name": "python3"
  },
  "language_info": {
   "codemirror_mode": {
    "name": "ipython",
    "version": 3
   },
   "file_extension": ".py",
   "mimetype": "text/x-python",
   "name": "python",
   "nbconvert_exporter": "python",
   "pygments_lexer": "ipython3",
   "version": "3.10.14"
  }
 },
 "nbformat": 4,
 "nbformat_minor": 2
}
