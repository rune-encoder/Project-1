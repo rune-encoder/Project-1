{
 "cells": [
  {
   "cell_type": "code",
   "execution_count": 54,
   "id": "aefd5b0f-2b6a-4b72-a18a-ea02efac7b5c",
   "metadata": {},
   "outputs": [],
   "source": [
    "from pathlib import Path\n",
    "import datetime as dt\n",
    "import pandas as pd\n",
    "import numpy as np"
   ]
  },
  {
   "cell_type": "code",
   "execution_count": 56,
   "id": "7139713a-55c4-4120-9b55-4856c7ab89c7",
   "metadata": {},
   "outputs": [],
   "source": [
    "#Read the csv file into a pandas DataFrame\n",
    "df_fl = pd.read_csv(Path(\"../../../data/processed_data/fl_evstation_progression.csv\"))\n",
    "\n",
    "# List of counties to keep\n",
    "counties_to_keep = ['Miami-Dade County', 'Broward County', 'Hillsborough County', 'Palm Beach County', 'Orange County', 'Duval County', 'Pinellas County', 'Lee County', 'Polk County', 'Brevard County']\n",
    "\n",
    "# Create a new column 'cleaned_county' to store the cleaned county names\n",
    "df_fl['cleaned_county'] = df_fl['county'].apply(lambda x: x if x in counties_to_keep else 'Other Florida Counties')\n",
    "\n",
    "# Group by 'year' and 'cleaned_county' and sum the 'ev_station_count' and 'cumulative_ev_stations'\n",
    "cleaned_df = df_fl.groupby(['year', 'cleaned_county']).sum().reset_index()\n",
    "\n",
    "# Drop the 'county' column\n",
    "cleaned_df.drop('county', axis=1, inplace=True)\n",
    "\n",
    "# Save the cleaned data to a new csv file\n",
    "cleaned_df.to_csv('fl_cleaned_ev_stations_data.csv', index=False)"
   ]
  },
  {
   "cell_type": "code",
   "execution_count": null,
   "id": "0718349e-5fc6-45bc-ae1a-e41f8cc4ffd9",
   "metadata": {},
   "outputs": [],
   "source": []
  },
  {
   "cell_type": "code",
   "execution_count": null,
   "id": "743d55fc-3575-4123-989d-d98968579db4",
   "metadata": {},
   "outputs": [],
   "source": []
  },
  {
   "cell_type": "code",
   "execution_count": null,
   "id": "fc697d0f-f8ea-437f-886c-3f09c797e149",
   "metadata": {},
   "outputs": [],
   "source": []
  }
 ],
 "metadata": {
  "kernelspec": {
   "display_name": "Python 3 (ipykernel)",
   "language": "python",
   "name": "python3"
  },
  "language_info": {
   "codemirror_mode": {
    "name": "ipython",
    "version": 3
   },
   "file_extension": ".py",
   "mimetype": "text/x-python",
   "name": "python",
   "nbconvert_exporter": "python",
   "pygments_lexer": "ipython3",
   "version": "3.12.4"
  }
 },
 "nbformat": 4,
 "nbformat_minor": 5
}
