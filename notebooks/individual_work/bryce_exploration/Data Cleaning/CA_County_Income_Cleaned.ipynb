{
 "cells": [
  {
   "cell_type": "code",
   "execution_count": 2,
   "id": "8c1454c4-37d5-41ba-ad79-0ea6c83d32ca",
   "metadata": {},
   "outputs": [],
   "source": [
    "import pandas as pd\n",
    "from pathlib import Path\n",
    "import datetime as dt\n",
    "import numpy as np"
   ]
  },
  {
   "cell_type": "code",
   "execution_count": 41,
   "id": "0ab974a6-9e6a-4315-9adf-3d4936865d0e",
   "metadata": {},
   "outputs": [],
   "source": [
    "#Import 2011 Raw Median Income data\n",
    "ca_raw_income10_df = pd.read_csv(Path(\"../../../../data/raw_data/median_income/ACSST5Y2010.S1903-2024-09-04T004959.csv\"))\n",
    "ca_raw_income11_df = pd.read_csv(Path(\"../../../../data/raw_data/median_income/ACSST5Y2011.S1903-2024-09-04T004358.csv\"))\n",
    "ca_raw_income12_df = pd.read_csv(Path(\"../../../../data/raw_data/median_income/ACSST5Y2012.S1903-2024-09-04T004426.csv\"))\n",
    "ca_raw_income13_df = pd.read_csv(Path(\"../../../../data/raw_data/median_income/ACSST5Y2013.S1903-2024-09-04T004451.csv\"))\n",
    "ca_raw_income14_df = pd.read_csv(Path(\"../../../../data/raw_data/median_income/ACSST5Y2014.S1903-2024-09-04T004510.csv\"))\n",
    "ca_raw_income15_df = pd.read_csv(Path(\"../../../../data/raw_data/median_income/ACSST5Y2015.S1903-2024-09-04T004535.csv\"))\n",
    "ca_raw_income16_df = pd.read_csv(Path(\"../../../../data/raw_data/median_income/ACSST5Y2016.S1903-2024-09-04T004558.csv\"))\n",
    "ca_raw_income17_df = pd.read_csv(Path(\"../../../../data/raw_data/median_income/ACSST5Y2017.S1903-2024-09-04T004654.csv\"))\n",
    "ca_raw_income18_df = pd.read_csv(Path(\"../../../../data/raw_data/median_income/ACSST5Y2018.S1903-2024-09-04T004748.csv\"))\n",
    "ca_raw_income19_df = pd.read_csv(Path(\"../../../../data/raw_data/median_income/ACSST5Y2019.S1903-2024-09-04T004826.csv\"))\n",
    "ca_raw_income20_df = pd.read_csv(Path(\"../../../../data/raw_data/median_income/ACSST5Y2020.S1903-2024-09-04T004856.csv\"))\n"
   ]
  },
  {
   "cell_type": "markdown",
   "id": "b90c0913-9206-455c-a0db-66dd582aa5b7",
   "metadata": {},
   "source": [
    "2010 Data"
   ]
  },
  {
   "cell_type": "code",
   "execution_count": 29,
   "id": "483d327d-f0db-4f56-9cf9-9d200c469029",
   "metadata": {},
   "outputs": [
    {
     "name": "stdout",
     "output_type": "stream",
     "text": [
      "Shape: (290, 2)\n"
     ]
    },
    {
     "data": {
      "text/plain": [
       "Index(['Label (Grouping)', 'Households'], dtype='object')"
      ]
     },
     "metadata": {},
     "output_type": "display_data"
    },
    {
     "data": {
      "text/html": [
       "<div>\n",
       "<style scoped>\n",
       "    .dataframe tbody tr th:only-of-type {\n",
       "        vertical-align: middle;\n",
       "    }\n",
       "\n",
       "    .dataframe tbody tr th {\n",
       "        vertical-align: top;\n",
       "    }\n",
       "\n",
       "    .dataframe thead th {\n",
       "        text-align: right;\n",
       "    }\n",
       "</style>\n",
       "<table border=\"1\" class=\"dataframe\">\n",
       "  <thead>\n",
       "    <tr style=\"text-align: right;\">\n",
       "      <th></th>\n",
       "      <th>Label (Grouping)</th>\n",
       "      <th>Households</th>\n",
       "    </tr>\n",
       "  </thead>\n",
       "  <tbody>\n",
       "    <tr>\n",
       "      <th>0</th>\n",
       "      <td>Alameda County, California</td>\n",
       "      <td>NaN</td>\n",
       "    </tr>\n",
       "    <tr>\n",
       "      <th>1</th>\n",
       "      <td>Total</td>\n",
       "      <td>NaN</td>\n",
       "    </tr>\n",
       "    <tr>\n",
       "      <th>2</th>\n",
       "      <td>Estimate</td>\n",
       "      <td>532,026</td>\n",
       "    </tr>\n",
       "    <tr>\n",
       "      <th>3</th>\n",
       "      <td>Median income (dollars)</td>\n",
       "      <td>NaN</td>\n",
       "    </tr>\n",
       "    <tr>\n",
       "      <th>4</th>\n",
       "      <td>Estimate</td>\n",
       "      <td>69,384</td>\n",
       "    </tr>\n",
       "    <tr>\n",
       "      <th>5</th>\n",
       "      <td>Alpine County, California</td>\n",
       "      <td>NaN</td>\n",
       "    </tr>\n",
       "    <tr>\n",
       "      <th>6</th>\n",
       "      <td>Total</td>\n",
       "      <td>NaN</td>\n",
       "    </tr>\n",
       "    <tr>\n",
       "      <th>7</th>\n",
       "      <td>Estimate</td>\n",
       "      <td>410</td>\n",
       "    </tr>\n",
       "    <tr>\n",
       "      <th>8</th>\n",
       "      <td>Median income (dollars)</td>\n",
       "      <td>NaN</td>\n",
       "    </tr>\n",
       "    <tr>\n",
       "      <th>9</th>\n",
       "      <td>Estimate</td>\n",
       "      <td>63,478</td>\n",
       "    </tr>\n",
       "  </tbody>\n",
       "</table>\n",
       "</div>"
      ],
      "text/plain": [
       "              Label (Grouping) Households\n",
       "0   Alameda County, California        NaN\n",
       "1                        Total        NaN\n",
       "2                     Estimate    532,026\n",
       "3      Median income (dollars)        NaN\n",
       "4                     Estimate     69,384\n",
       "5    Alpine County, California        NaN\n",
       "6                        Total        NaN\n",
       "7                     Estimate        410\n",
       "8      Median income (dollars)        NaN\n",
       "9                     Estimate     63,478"
      ]
     },
     "metadata": {},
     "output_type": "display_data"
    }
   ],
   "source": [
    "#Examine 2010 Data\n",
    "print(\"Shape:\",ca_raw_income10_df.shape)\n",
    "display(ca_raw_income10_df.columns)\n",
    "display(ca_raw_income10_df.head(10))"
   ]
  },
  {
   "cell_type": "code",
   "execution_count": 34,
   "id": "185c878e-9ae2-444a-88da-4c3357beae25",
   "metadata": {},
   "outputs": [
    {
     "data": {
      "text/html": [
       "<div>\n",
       "<style scoped>\n",
       "    .dataframe tbody tr th:only-of-type {\n",
       "        vertical-align: middle;\n",
       "    }\n",
       "\n",
       "    .dataframe tbody tr th {\n",
       "        vertical-align: top;\n",
       "    }\n",
       "\n",
       "    .dataframe thead th {\n",
       "        text-align: right;\n",
       "    }\n",
       "</style>\n",
       "<table border=\"1\" class=\"dataframe\">\n",
       "  <thead>\n",
       "    <tr style=\"text-align: right;\">\n",
       "      <th></th>\n",
       "      <th>County</th>\n",
       "      <th>2010 Median Income</th>\n",
       "    </tr>\n",
       "  </thead>\n",
       "  <tbody>\n",
       "    <tr>\n",
       "      <th>0</th>\n",
       "      <td>Alameda County, California</td>\n",
       "      <td>NaN</td>\n",
       "    </tr>\n",
       "    <tr>\n",
       "      <th>1</th>\n",
       "      <td>Total</td>\n",
       "      <td>NaN</td>\n",
       "    </tr>\n",
       "    <tr>\n",
       "      <th>2</th>\n",
       "      <td>Estimate</td>\n",
       "      <td>532,026</td>\n",
       "    </tr>\n",
       "    <tr>\n",
       "      <th>3</th>\n",
       "      <td>Median income (dollars)</td>\n",
       "      <td>NaN</td>\n",
       "    </tr>\n",
       "    <tr>\n",
       "      <th>4</th>\n",
       "      <td>Estimate</td>\n",
       "      <td>69,384</td>\n",
       "    </tr>\n",
       "    <tr>\n",
       "      <th>5</th>\n",
       "      <td>Alpine County, California</td>\n",
       "      <td>NaN</td>\n",
       "    </tr>\n",
       "    <tr>\n",
       "      <th>6</th>\n",
       "      <td>Total</td>\n",
       "      <td>NaN</td>\n",
       "    </tr>\n",
       "    <tr>\n",
       "      <th>7</th>\n",
       "      <td>Estimate</td>\n",
       "      <td>410</td>\n",
       "    </tr>\n",
       "    <tr>\n",
       "      <th>8</th>\n",
       "      <td>Median income (dollars)</td>\n",
       "      <td>NaN</td>\n",
       "    </tr>\n",
       "    <tr>\n",
       "      <th>9</th>\n",
       "      <td>Estimate</td>\n",
       "      <td>63,478</td>\n",
       "    </tr>\n",
       "  </tbody>\n",
       "</table>\n",
       "</div>"
      ],
      "text/plain": [
       "                        County 2010 Median Income\n",
       "0   Alameda County, California                NaN\n",
       "1                        Total                NaN\n",
       "2                     Estimate            532,026\n",
       "3      Median income (dollars)                NaN\n",
       "4                     Estimate             69,384\n",
       "5    Alpine County, California                NaN\n",
       "6                        Total                NaN\n",
       "7                     Estimate                410\n",
       "8      Median income (dollars)                NaN\n",
       "9                     Estimate             63,478"
      ]
     },
     "execution_count": 34,
     "metadata": {},
     "output_type": "execute_result"
    }
   ],
   "source": [
    "#Rename 2010 Columns\n",
    "ca_10_df = ca_raw_income10_df.rename(columns={\"Label (Grouping)\":\"County\",\"Households\":\"2010 Median Income\"})\n",
    "ca_10_df.head(10)"
   ]
  },
  {
   "cell_type": "code",
   "execution_count": null,
   "id": "c3e00b52-428d-4f19-b572-e783440797a8",
   "metadata": {},
   "outputs": [],
   "source": []
  }
 ],
 "metadata": {
  "kernelspec": {
   "display_name": "Python 3 (ipykernel)",
   "language": "python",
   "name": "python3"
  },
  "language_info": {
   "codemirror_mode": {
    "name": "ipython",
    "version": 3
   },
   "file_extension": ".py",
   "mimetype": "text/x-python",
   "name": "python",
   "nbconvert_exporter": "python",
   "pygments_lexer": "ipython3",
   "version": "3.12.4"
  }
 },
 "nbformat": 4,
 "nbformat_minor": 5
}
