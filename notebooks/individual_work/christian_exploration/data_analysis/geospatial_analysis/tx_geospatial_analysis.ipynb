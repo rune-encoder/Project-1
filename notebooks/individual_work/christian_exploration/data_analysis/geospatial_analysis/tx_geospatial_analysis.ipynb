{
 "cells": [
  {
   "cell_type": "code",
   "execution_count": 1,
   "metadata": {},
   "outputs": [],
   "source": [
    "from IPython.display import clear_output\n",
    "from pathlib import Path\n",
    "import pandas as pd\n",
    "import plotly.express as px\n",
    "import plotly.io as pio\n",
    "import requests\n",
    "import json\n",
    "import ast"
   ]
  },
  {
   "cell_type": "code",
   "execution_count": null,
   "metadata": {},
   "outputs": [],
   "source": [
    "# Load the main dataset\n",
    "df = pd.read_csv(\n",
    "    Path(\"../../../../../data/processed_data/ev_main_dataset.csv\"),\n",
    ")\n",
    "\n",
    "# Conver the `ev_adoption_rate` and `ev_growth_rate` to percentages\n",
    "df[\"ev_adoption_rate\"] = df[\"ev_adoption_rate\"] * 100\n",
    "df[\"ev_growth_rate\"] = df[\"ev_growth_rate\"] * 100\n",
    "\n",
    "# Display the data\n",
    "print(\"Shape:\", df.shape)\n",
    "df.head()"
   ]
  },
  {
   "cell_type": "code",
   "execution_count": null,
   "metadata": {},
   "outputs": [],
   "source": [
    "# Create a seperate DataFrame for Florida\n",
    "tx_df = df[df[\"state\"] == \"TX\"].sort_values([\"year\", \"state\", \"county\"]).reset_index(drop=True)\n",
    "\n",
    "# Display the DataFrames\n",
    "display(tx_df.head(2))"
   ]
  },
  {
   "cell_type": "code",
   "execution_count": null,
   "metadata": {},
   "outputs": [],
   "source": [
    "ex_tx_df = tx_df.copy()\n",
    "\n",
    "# Filter for the latest year values\n",
    "ex_tx_df = ex_tx_df.loc[ex_tx_df[\"year\"] == 2022]\n",
    "\n",
    "# Inspect the 'zip_codes' column class\n",
    "print(\"Before:\", type(ex_tx_df[\"zip_codes\"].values[0]))\n",
    "\n",
    "# Convert the strings in the 'zip_codes' column back into lists\n",
    "ex_tx_df[\"zip_codes\"] = ex_tx_df[\"zip_codes\"].apply(ast.literal_eval)\n",
    "\n",
    "# Confirm the conversion from string to list for the 'zip_codes' column\n",
    "print(\"After:\", type(ex_tx_df[\"zip_codes\"].values[0]))\n",
    "ex_tx_df.head()"
   ]
  },
  {
   "cell_type": "code",
   "execution_count": null,
   "metadata": {},
   "outputs": [],
   "source": [
    "# Explode the 'zip_codes' column so that each zip code has its own row\n",
    "ex_tx_df = ex_tx_df.explode(\"zip_codes\")\n",
    "\n",
    "# Check the `zip_codes` column values data type\n",
    "print(type(ex_tx_df[\"zip_codes\"].values[0]))\n",
    "ex_tx_df.head()"
   ]
  },
  {
   "cell_type": "code",
   "execution_count": null,
   "metadata": {},
   "outputs": [],
   "source": [
    "# Convert again to string since it is now an integer after exploding\n",
    "ex_tx_df[\"zip_codes\"] = ex_tx_df[\"zip_codes\"].astype(str).str.strip()\n",
    "\n",
    "# Confirm the conversion from integer to string for the 'zip_codes' column\n",
    "print(type(ex_tx_df[\"zip_codes\"].values[0]))\n",
    "ex_tx_df.head()"
   ]
  },
  {
   "cell_type": "code",
   "execution_count": null,
   "metadata": {},
   "outputs": [],
   "source": [
    "# Obtain the geojson data for Texas\n",
    "state_geojson_url = \"https://raw.githubusercontent.com/OpenDataDE/State-zip-code-GeoJSON/master/tx_texas_zip_codes_geo.min.json\"\n",
    "texas_geojson = requests.get(state_geojson_url).json()\n",
    "\n",
    "# Inspect the geojson data\n",
    "print(json.dumps(texas_geojson, indent=4))"
   ]
  },
  {
   "cell_type": "code",
   "execution_count": 8,
   "metadata": {},
   "outputs": [],
   "source": [
    "# Use `iframe` to display the plot in JupyterLab\n",
    "\n",
    "# pio.renderers.default = 'notebook'\n",
    "pio.renderers.default = 'iframe' "
   ]
  },
  {
   "cell_type": "code",
   "execution_count": 9,
   "metadata": {},
   "outputs": [],
   "source": [
    "# Use plotly express to create a choropleth map and display it\n",
    "# The zip_code' field in the DataFrame matches the field in the GeoJSON \"ZCTA5CE10\" \n",
    "# The 'featureidkey' parameter is used to link the GeoJSON to the DataFrame\n",
    "# Documentation: https://plotly.github.io/plotly.py-docs/generated/plotly.express.choropleth_mapbox.html\n",
    "\n",
    "fig = px.choropleth_mapbox(ex_tx_df,\n",
    "                           geojson=texas_geojson,\n",
    "                           featureidkey=\"properties.ZCTA5CE10\",\n",
    "                           locations='zip_codes',\n",
    "                           color='ev_adoption_rate',\n",
    "                           hover_name='county',\n",
    "                           hover_data=['ev_registrations', 'median_income'],\n",
    "                           labels={\n",
    "                               'county': 'County',\n",
    "                               'zip_codes': 'Zip Code',\n",
    "                               'ev_adoption_rate': 'EV Adoption Rate (%)',\n",
    "                               'ev_registrations': 'EV Registrations',\n",
    "                               'median_income': 'Median Income'\n",
    "                           },\n",
    "                           color_continuous_scale='Viridis',\n",
    "                           opacity=0.8,\n",
    "                           zoom=5,\n",
    "                           center={\"lat\": 27.9944024, \"lon\": -81.7602544},\n",
    "                           mapbox_style=\"carto-positron\",\n",
    "                           title=\"Florida EV Adoption Rate by County\",\n",
    "                           )\n",
    "\n",
    "fig.update_layout(\n",
    "    coloraxis_colorbar_title=\"EV Adoption Rate (%)\",\n",
    "    margin={\"r\": 0, \"t\": 0, \"l\": 0, \"b\": 0}\n",
    ")\n",
    "\n",
    "file_name = \"tx_geo_map_ev_adoption_rate.html\"\n",
    "file_path = Path(f\"../../../../../reports/geospatial_maps/{file_name}\")\n",
    "fig.write_html(file_path)\n",
    "\n",
    "clear_output()"
   ]
  }
 ],
 "metadata": {
  "kernelspec": {
   "display_name": "Python 3 (ipykernel)",
   "language": "python",
   "name": "python3"
  },
  "language_info": {
   "codemirror_mode": {
    "name": "ipython",
    "version": 3
   },
   "file_extension": ".py",
   "mimetype": "text/x-python",
   "name": "python",
   "nbconvert_exporter": "python",
   "pygments_lexer": "ipython3",
   "version": "3.10.14"
  }
 },
 "nbformat": 4,
 "nbformat_minor": 4
}
