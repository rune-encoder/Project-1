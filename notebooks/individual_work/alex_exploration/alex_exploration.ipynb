{
 "cells": [
  {
   "cell_type": "code",
   "execution_count": 2,
   "metadata": {},
   "outputs": [],
   "source": [
    "from pathlib import Path\n",
    "import datetime as dt\n",
    "import pandas as pd"
   ]
  },
  {
   "cell_type": "code",
   "execution_count": 4,
   "metadata": {},
   "outputs": [
    {
     "name": "stderr",
     "output_type": "stream",
     "text": [
      "/var/folders/07/6wrk2d5d7_ggvw77n55lwq_40000gn/T/ipykernel_45405/2530321261.py:1: DtypeWarning: Columns (6,20,31,46,69,73) have mixed types. Specify dtype option on import or set low_memory=False.\n",
      "  df = pd.read_csv('alt_fuel_stations_Sep22024_california.csv')\n"
     ]
    }
   ],
   "source": [
    "df_california_evstations_order = pd.read_csv(\n",
    "    Path('alt_fuel_stations_Sep22024_california.csv')"
   ]
  },
  {
   "cell_type": "code",
   "execution_count": null,
   "metadata": {},
   "outputs": [],
   "source": [
    "#fl_pop_df = pd.read_csv(\n",
    "    #Path(\"../../../data/processed_data/fl_population.csv\"),\n",
    "    #index_col=\"date\",\n",
    "    #parse_dates=True,\n",
    "#)\n",
    "\n",
    "#print(\"Shape:\", fl_pop_df.shape)\n",
    "#fl_pop_df.sort_values(\"date\")"
   ]
  },
  {
   "cell_type": "code",
   "execution_count": null,
   "metadata": {},
   "outputs": [],
   "source": [
    "#ca_ev_df = pd.read_csv(\n",
    "    #Path(\"../../../data/processed_data/ca_ev_registrations.csv\"),\n",
    "    #index_col=\"registration_date\",\n",
    "   # parse_dates=True,\n",
    "#)\n",
    "\n",
    "#print(\"Shape:\", ca_ev_df.shape)\n",
    "#ca_ev_df"
   ]
  },
  {
   "cell_type": "code",
   "execution_count": null,
   "metadata": {},
   "outputs": [],
   "source": []
  },
  {
   "cell_type": "code",
   "execution_count": null,
   "metadata": {},
   "outputs": [],
   "source": []
  },
  {
   "cell_type": "code",
   "execution_count": null,
   "metadata": {},
   "outputs": [],
   "source": []
  },
  {
   "cell_type": "code",
   "execution_count": null,
   "metadata": {},
   "outputs": [],
   "source": []
  },
  {
   "cell_type": "code",
   "execution_count": null,
   "metadata": {},
   "outputs": [],
   "source": []
  }
 ],
 "metadata": {
  "kernelspec": {
   "display_name": "Python 3 (ipykernel)",
   "language": "python",
   "name": "python3"
  },
  "language_info": {
   "codemirror_mode": {
    "name": "ipython",
    "version": 3
   },
   "file_extension": ".py",
   "mimetype": "text/x-python",
   "name": "python",
   "nbconvert_exporter": "python",
   "pygments_lexer": "ipython3",
   "version": "3.12.4"
  }
 },
 "nbformat": 4,
 "nbformat_minor": 4
}
