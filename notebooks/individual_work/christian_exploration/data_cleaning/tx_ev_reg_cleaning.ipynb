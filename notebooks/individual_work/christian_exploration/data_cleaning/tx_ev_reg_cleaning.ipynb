{
 "cells": [
  {
   "cell_type": "code",
   "execution_count": 1,
   "metadata": {},
   "outputs": [],
   "source": [
    "from pathlib import Path\n",
    "import datetime as dt\n",
    "import pandas as pd"
   ]
  },
  {
   "cell_type": "markdown",
   "metadata": {},
   "source": [
    "#### Texas EV Vehicle Registration: Raw Dataset"
   ]
  },
  {
   "cell_type": "code",
   "execution_count": 2,
   "metadata": {},
   "outputs": [
    {
     "name": "stdout",
     "output_type": "stream",
     "text": [
      "Shape: (2274866, 13)\n"
     ]
    },
    {
     "data": {
      "text/html": [
       "<div>\n",
       "<style scoped>\n",
       "    .dataframe tbody tr th:only-of-type {\n",
       "        vertical-align: middle;\n",
       "    }\n",
       "\n",
       "    .dataframe tbody tr th {\n",
       "        vertical-align: top;\n",
       "    }\n",
       "\n",
       "    .dataframe thead th {\n",
       "        text-align: right;\n",
       "    }\n",
       "</style>\n",
       "<table border=\"1\" class=\"dataframe\">\n",
       "  <thead>\n",
       "    <tr style=\"text-align: right;\">\n",
       "      <th></th>\n",
       "      <th>State</th>\n",
       "      <th>ZIP Code</th>\n",
       "      <th>Registration Date</th>\n",
       "      <th>Vehicle Make</th>\n",
       "      <th>Vehicle Model</th>\n",
       "      <th>Vehicle Model Year</th>\n",
       "      <th>Drivetrain Type</th>\n",
       "      <th>Vehicle GVWR Class</th>\n",
       "      <th>Vehicle GVWR Category</th>\n",
       "      <th>Vehicle Count</th>\n",
       "      <th>DMV Snapshot ID</th>\n",
       "      <th>DMV Snapshot (Date)</th>\n",
       "      <th>Latest DMV Snapshot Flag</th>\n",
       "    </tr>\n",
       "  </thead>\n",
       "  <tbody>\n",
       "    <tr>\n",
       "      <th>0</th>\n",
       "      <td>TX</td>\n",
       "      <td>75002</td>\n",
       "      <td>2023-08-01</td>\n",
       "      <td>TESLA</td>\n",
       "      <td>MODEL 3</td>\n",
       "      <td>2021</td>\n",
       "      <td>BEV</td>\n",
       "      <td>1</td>\n",
       "      <td>Light-Duty (Class 1-2A)</td>\n",
       "      <td>1</td>\n",
       "      <td>7</td>\n",
       "      <td>DMV Snapshot (10/1/2023)</td>\n",
       "      <td>False</td>\n",
       "    </tr>\n",
       "    <tr>\n",
       "      <th>1</th>\n",
       "      <td>TX</td>\n",
       "      <td>77090</td>\n",
       "      <td>2023-08-01</td>\n",
       "      <td>TESLA</td>\n",
       "      <td>MODEL 3</td>\n",
       "      <td>2021</td>\n",
       "      <td>BEV</td>\n",
       "      <td>1</td>\n",
       "      <td>Light-Duty (Class 1-2A)</td>\n",
       "      <td>1</td>\n",
       "      <td>7</td>\n",
       "      <td>DMV Snapshot (10/1/2023)</td>\n",
       "      <td>False</td>\n",
       "    </tr>\n",
       "    <tr>\n",
       "      <th>2</th>\n",
       "      <td>TX</td>\n",
       "      <td>76053</td>\n",
       "      <td>2023-08-01</td>\n",
       "      <td>TESLA</td>\n",
       "      <td>MODEL 3</td>\n",
       "      <td>2021</td>\n",
       "      <td>BEV</td>\n",
       "      <td>1</td>\n",
       "      <td>Light-Duty (Class 1-2A)</td>\n",
       "      <td>1</td>\n",
       "      <td>7</td>\n",
       "      <td>DMV Snapshot (10/1/2023)</td>\n",
       "      <td>False</td>\n",
       "    </tr>\n",
       "    <tr>\n",
       "      <th>3</th>\n",
       "      <td>TX</td>\n",
       "      <td>76031</td>\n",
       "      <td>2023-08-01</td>\n",
       "      <td>TESLA</td>\n",
       "      <td>MODEL 3</td>\n",
       "      <td>2021</td>\n",
       "      <td>BEV</td>\n",
       "      <td>1</td>\n",
       "      <td>Light-Duty (Class 1-2A)</td>\n",
       "      <td>1</td>\n",
       "      <td>7</td>\n",
       "      <td>DMV Snapshot (10/1/2023)</td>\n",
       "      <td>False</td>\n",
       "    </tr>\n",
       "    <tr>\n",
       "      <th>4</th>\n",
       "      <td>TX</td>\n",
       "      <td>76028</td>\n",
       "      <td>2023-08-01</td>\n",
       "      <td>TESLA</td>\n",
       "      <td>MODEL 3</td>\n",
       "      <td>2021</td>\n",
       "      <td>BEV</td>\n",
       "      <td>1</td>\n",
       "      <td>Light-Duty (Class 1-2A)</td>\n",
       "      <td>1</td>\n",
       "      <td>7</td>\n",
       "      <td>DMV Snapshot (10/1/2023)</td>\n",
       "      <td>False</td>\n",
       "    </tr>\n",
       "  </tbody>\n",
       "</table>\n",
       "</div>"
      ],
      "text/plain": [
       "  State ZIP Code Registration Date Vehicle Make Vehicle Model  \\\n",
       "0    TX    75002        2023-08-01        TESLA       MODEL 3   \n",
       "1    TX    77090        2023-08-01        TESLA       MODEL 3   \n",
       "2    TX    76053        2023-08-01        TESLA       MODEL 3   \n",
       "3    TX    76031        2023-08-01        TESLA       MODEL 3   \n",
       "4    TX    76028        2023-08-01        TESLA       MODEL 3   \n",
       "\n",
       "   Vehicle Model Year Drivetrain Type Vehicle GVWR Class  \\\n",
       "0                2021             BEV                  1   \n",
       "1                2021             BEV                  1   \n",
       "2                2021             BEV                  1   \n",
       "3                2021             BEV                  1   \n",
       "4                2021             BEV                  1   \n",
       "\n",
       "     Vehicle GVWR Category  Vehicle Count  DMV Snapshot ID  \\\n",
       "0  Light-Duty (Class 1-2A)              1                7   \n",
       "1  Light-Duty (Class 1-2A)              1                7   \n",
       "2  Light-Duty (Class 1-2A)              1                7   \n",
       "3  Light-Duty (Class 1-2A)              1                7   \n",
       "4  Light-Duty (Class 1-2A)              1                7   \n",
       "\n",
       "        DMV Snapshot (Date)  Latest DMV Snapshot Flag  \n",
       "0  DMV Snapshot (10/1/2023)                     False  \n",
       "1  DMV Snapshot (10/1/2023)                     False  \n",
       "2  DMV Snapshot (10/1/2023)                     False  \n",
       "3  DMV Snapshot (10/1/2023)                     False  \n",
       "4  DMV Snapshot (10/1/2023)                     False  "
      ]
     },
     "metadata": {},
     "output_type": "display_data"
    }
   ],
   "source": [
    "# Read the data for EV registrations in Texas\n",
    "df = pd.read_csv(\n",
    "    Path(\"../../../../data/raw_data/TX_EV_Registrations.csv\"),\n",
    "    dtype={7 : str},\n",
    "    parse_dates=[\"Registration Date\"],\n",
    "    date_format=\"%m/%d/%Y\"\n",
    ")\n",
    "\n",
    "print(\"Shape:\", df.shape)\n",
    "display(df.head())"
   ]
  },
  {
   "cell_type": "code",
   "execution_count": 3,
   "metadata": {},
   "outputs": [
    {
     "name": "stdout",
     "output_type": "stream",
     "text": [
      "0 State\n",
      "1 ZIP Code\n",
      "2 Registration Date\n",
      "3 Vehicle Make\n",
      "4 Vehicle Model\n",
      "5 Vehicle Model Year\n",
      "6 Drivetrain Type\n",
      "7 Vehicle GVWR Class\n",
      "8 Vehicle GVWR Category\n",
      "9 Vehicle Count\n",
      "10 DMV Snapshot ID\n",
      "11 DMV Snapshot (Date)\n",
      "12 Latest DMV Snapshot Flag\n"
     ]
    }
   ],
   "source": [
    "# Familiarize with the columns\n",
    "for index, value in enumerate(df.columns):\n",
    "    print(index, value)"
   ]
  },
  {
   "cell_type": "code",
   "execution_count": 4,
   "metadata": {},
   "outputs": [
    {
     "name": "stdout",
     "output_type": "stream",
     "text": [
      "<class 'pandas.core.frame.DataFrame'>\n",
      "RangeIndex: 2274866 entries, 0 to 2274865\n",
      "Data columns (total 13 columns):\n",
      " #   Column                    Dtype         \n",
      "---  ------                    -----         \n",
      " 0   State                     object        \n",
      " 1   ZIP Code                  object        \n",
      " 2   Registration Date         datetime64[ns]\n",
      " 3   Vehicle Make              object        \n",
      " 4   Vehicle Model             object        \n",
      " 5   Vehicle Model Year        int64         \n",
      " 6   Drivetrain Type           object        \n",
      " 7   Vehicle GVWR Class        object        \n",
      " 8   Vehicle GVWR Category     object        \n",
      " 9   Vehicle Count             int64         \n",
      " 10  DMV Snapshot ID           int64         \n",
      " 11  DMV Snapshot (Date)       object        \n",
      " 12  Latest DMV Snapshot Flag  bool          \n",
      "dtypes: bool(1), datetime64[ns](1), int64(3), object(8)\n",
      "memory usage: 210.4+ MB\n"
     ]
    }
   ],
   "source": [
    "# Familiarize with the data types\n",
    "df.info()"
   ]
  },
  {
   "cell_type": "markdown",
   "metadata": {},
   "source": [
    "#### Texas EV Vehicle Registration: Processed Dataset"
   ]
  },
  {
   "cell_type": "code",
   "execution_count": 5,
   "metadata": {},
   "outputs": [
    {
     "name": "stdout",
     "output_type": "stream",
     "text": [
      "Shape: (2274866, 6)\n"
     ]
    },
    {
     "data": {
      "text/html": [
       "<div>\n",
       "<style scoped>\n",
       "    .dataframe tbody tr th:only-of-type {\n",
       "        vertical-align: middle;\n",
       "    }\n",
       "\n",
       "    .dataframe tbody tr th {\n",
       "        vertical-align: top;\n",
       "    }\n",
       "\n",
       "    .dataframe thead th {\n",
       "        text-align: right;\n",
       "    }\n",
       "</style>\n",
       "<table border=\"1\" class=\"dataframe\">\n",
       "  <thead>\n",
       "    <tr style=\"text-align: right;\">\n",
       "      <th></th>\n",
       "      <th>Registration Date</th>\n",
       "      <th>State</th>\n",
       "      <th>ZIP Code</th>\n",
       "      <th>Vehicle Make</th>\n",
       "      <th>Vehicle Model</th>\n",
       "      <th>Vehicle Model Year</th>\n",
       "    </tr>\n",
       "  </thead>\n",
       "  <tbody>\n",
       "    <tr>\n",
       "      <th>0</th>\n",
       "      <td>2023-08-01</td>\n",
       "      <td>TX</td>\n",
       "      <td>75002</td>\n",
       "      <td>TESLA</td>\n",
       "      <td>MODEL 3</td>\n",
       "      <td>2021</td>\n",
       "    </tr>\n",
       "    <tr>\n",
       "      <th>1</th>\n",
       "      <td>2023-08-01</td>\n",
       "      <td>TX</td>\n",
       "      <td>77090</td>\n",
       "      <td>TESLA</td>\n",
       "      <td>MODEL 3</td>\n",
       "      <td>2021</td>\n",
       "    </tr>\n",
       "    <tr>\n",
       "      <th>2</th>\n",
       "      <td>2023-08-01</td>\n",
       "      <td>TX</td>\n",
       "      <td>76053</td>\n",
       "      <td>TESLA</td>\n",
       "      <td>MODEL 3</td>\n",
       "      <td>2021</td>\n",
       "    </tr>\n",
       "    <tr>\n",
       "      <th>3</th>\n",
       "      <td>2023-08-01</td>\n",
       "      <td>TX</td>\n",
       "      <td>76031</td>\n",
       "      <td>TESLA</td>\n",
       "      <td>MODEL 3</td>\n",
       "      <td>2021</td>\n",
       "    </tr>\n",
       "    <tr>\n",
       "      <th>4</th>\n",
       "      <td>2023-08-01</td>\n",
       "      <td>TX</td>\n",
       "      <td>76028</td>\n",
       "      <td>TESLA</td>\n",
       "      <td>MODEL 3</td>\n",
       "      <td>2021</td>\n",
       "    </tr>\n",
       "  </tbody>\n",
       "</table>\n",
       "</div>"
      ],
      "text/plain": [
       "  Registration Date State ZIP Code Vehicle Make Vehicle Model  \\\n",
       "0        2023-08-01    TX    75002        TESLA       MODEL 3   \n",
       "1        2023-08-01    TX    77090        TESLA       MODEL 3   \n",
       "2        2023-08-01    TX    76053        TESLA       MODEL 3   \n",
       "3        2023-08-01    TX    76031        TESLA       MODEL 3   \n",
       "4        2023-08-01    TX    76028        TESLA       MODEL 3   \n",
       "\n",
       "   Vehicle Model Year  \n",
       "0                2021  \n",
       "1                2021  \n",
       "2                2021  \n",
       "3                2021  \n",
       "4                2021  "
      ]
     },
     "metadata": {},
     "output_type": "display_data"
    }
   ],
   "source": [
    "# Create a new DataFrame with only the columns needed for the analysis\n",
    "select_columns = [\"Registration Date\", \"State\", \"ZIP Code\", \"Vehicle Make\", \"Vehicle Model\", \"Vehicle Model Year\"]\n",
    "\n",
    "df_clean = df.loc[:, select_columns]\n",
    "\n",
    "print(\"Shape:\", df_clean.shape)\n",
    "display(df_clean.head())"
   ]
  },
  {
   "cell_type": "code",
   "execution_count": 6,
   "metadata": {},
   "outputs": [
    {
     "name": "stdout",
     "output_type": "stream",
     "text": [
      "Shape: (2274866, 6)\n"
     ]
    },
    {
     "data": {
      "text/html": [
       "<div>\n",
       "<style scoped>\n",
       "    .dataframe tbody tr th:only-of-type {\n",
       "        vertical-align: middle;\n",
       "    }\n",
       "\n",
       "    .dataframe tbody tr th {\n",
       "        vertical-align: top;\n",
       "    }\n",
       "\n",
       "    .dataframe thead th {\n",
       "        text-align: right;\n",
       "    }\n",
       "</style>\n",
       "<table border=\"1\" class=\"dataframe\">\n",
       "  <thead>\n",
       "    <tr style=\"text-align: right;\">\n",
       "      <th></th>\n",
       "      <th>registration_date</th>\n",
       "      <th>state</th>\n",
       "      <th>zip_code</th>\n",
       "      <th>make</th>\n",
       "      <th>model</th>\n",
       "      <th>year</th>\n",
       "    </tr>\n",
       "  </thead>\n",
       "  <tbody>\n",
       "    <tr>\n",
       "      <th>0</th>\n",
       "      <td>2023-08-01</td>\n",
       "      <td>TX</td>\n",
       "      <td>75002</td>\n",
       "      <td>TESLA</td>\n",
       "      <td>MODEL 3</td>\n",
       "      <td>2021</td>\n",
       "    </tr>\n",
       "    <tr>\n",
       "      <th>1</th>\n",
       "      <td>2023-08-01</td>\n",
       "      <td>TX</td>\n",
       "      <td>77090</td>\n",
       "      <td>TESLA</td>\n",
       "      <td>MODEL 3</td>\n",
       "      <td>2021</td>\n",
       "    </tr>\n",
       "    <tr>\n",
       "      <th>2</th>\n",
       "      <td>2023-08-01</td>\n",
       "      <td>TX</td>\n",
       "      <td>76053</td>\n",
       "      <td>TESLA</td>\n",
       "      <td>MODEL 3</td>\n",
       "      <td>2021</td>\n",
       "    </tr>\n",
       "    <tr>\n",
       "      <th>3</th>\n",
       "      <td>2023-08-01</td>\n",
       "      <td>TX</td>\n",
       "      <td>76031</td>\n",
       "      <td>TESLA</td>\n",
       "      <td>MODEL 3</td>\n",
       "      <td>2021</td>\n",
       "    </tr>\n",
       "    <tr>\n",
       "      <th>4</th>\n",
       "      <td>2023-08-01</td>\n",
       "      <td>TX</td>\n",
       "      <td>76028</td>\n",
       "      <td>TESLA</td>\n",
       "      <td>MODEL 3</td>\n",
       "      <td>2021</td>\n",
       "    </tr>\n",
       "  </tbody>\n",
       "</table>\n",
       "</div>"
      ],
      "text/plain": [
       "  registration_date state zip_code   make    model  year\n",
       "0        2023-08-01    TX    75002  TESLA  MODEL 3  2021\n",
       "1        2023-08-01    TX    77090  TESLA  MODEL 3  2021\n",
       "2        2023-08-01    TX    76053  TESLA  MODEL 3  2021\n",
       "3        2023-08-01    TX    76031  TESLA  MODEL 3  2021\n",
       "4        2023-08-01    TX    76028  TESLA  MODEL 3  2021"
      ]
     },
     "metadata": {},
     "output_type": "display_data"
    }
   ],
   "source": [
    "# Rename columns to manageable names\n",
    "\n",
    "df_clean = df_clean.rename(columns={\n",
    "    \"Registration Date\": \"registration_date\",\n",
    "    \"State\": \"state\",\n",
    "    \"ZIP Code\": \"zip_code\",\n",
    "    \"Vehicle Make\": \"make\",\n",
    "    \"Vehicle Model\": \"model\",\n",
    "    \"Vehicle Model Year\": \"year\"\n",
    "})\n",
    "\n",
    "print(\"Shape:\", df_clean.shape)\n",
    "display(df_clean.head())"
   ]
  },
  {
   "cell_type": "code",
   "execution_count": 7,
   "metadata": {},
   "outputs": [
    {
     "name": "stdout",
     "output_type": "stream",
     "text": [
      "<class 'pandas.core.frame.DataFrame'>\n",
      "RangeIndex: 2274866 entries, 0 to 2274865\n",
      "Data columns (total 6 columns):\n",
      " #   Column             Dtype         \n",
      "---  ------             -----         \n",
      " 0   registration_date  datetime64[ns]\n",
      " 1   state              object        \n",
      " 2   zip_code           object        \n",
      " 3   make               object        \n",
      " 4   model              object        \n",
      " 5   year               int64         \n",
      "dtypes: datetime64[ns](1), int64(1), object(4)\n",
      "memory usage: 104.1+ MB\n"
     ]
    }
   ],
   "source": [
    "# View data types before saving the cleaned data\n",
    "df_clean.info()"
   ]
  },
  {
   "cell_type": "code",
   "execution_count": 8,
   "metadata": {},
   "outputs": [
    {
     "data": {
      "text/plain": [
       "registration_date    0\n",
       "state                0\n",
       "zip_code             0\n",
       "make                 0\n",
       "model                0\n",
       "year                 0\n",
       "dtype: int64"
      ]
     },
     "execution_count": 8,
     "metadata": {},
     "output_type": "execute_result"
    }
   ],
   "source": [
    "# Count missing values in each column\n",
    "df_clean.isnull().sum()"
   ]
  },
  {
   "cell_type": "code",
   "execution_count": 9,
   "metadata": {},
   "outputs": [
    {
     "name": "stdout",
     "output_type": "stream",
     "text": [
      "File already exists. Overwriting file.\n",
      "Creating file...\n",
      "File saved as tx_ev_registrations.csv\n"
     ]
    }
   ],
   "source": [
    "# Export to a new CSV file\n",
    "file_name = \"tx_ev_registrations.csv\"\n",
    "file_path = Path(f\"../../../../data/processed_data/{file_name}\")\n",
    "\n",
    "if file_path.exists():\n",
    "    print(\"File already exists. Overwriting file.\")\n",
    "    file_path.unlink()\n",
    "\n",
    "if not file_path.exists():\n",
    "    print(\"Creating file...\")\n",
    "    df_clean.to_csv(file_path, index=False)\n",
    "    print(f\"File saved as {file_name}\")"
   ]
  },
  {
   "cell_type": "code",
   "execution_count": null,
   "metadata": {},
   "outputs": [],
   "source": []
  }
 ],
 "metadata": {
  "kernelspec": {
   "display_name": "dev",
   "language": "python",
   "name": "python3"
  },
  "language_info": {
   "codemirror_mode": {
    "name": "ipython",
    "version": 3
   },
   "file_extension": ".py",
   "mimetype": "text/x-python",
   "name": "python",
   "nbconvert_exporter": "python",
   "pygments_lexer": "ipython3",
   "version": "3.10.14"
  }
 },
 "nbformat": 4,
 "nbformat_minor": 2
}
