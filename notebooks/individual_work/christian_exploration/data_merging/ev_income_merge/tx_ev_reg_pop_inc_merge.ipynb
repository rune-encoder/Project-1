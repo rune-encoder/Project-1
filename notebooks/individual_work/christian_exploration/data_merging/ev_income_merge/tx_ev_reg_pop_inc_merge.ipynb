{
 "cells": [
  {
   "cell_type": "code",
   "execution_count": 1,
   "metadata": {},
   "outputs": [],
   "source": [
    "from pathlib import Path\n",
    "import datetime as dt\n",
    "import pandas as pd"
   ]
  },
  {
   "cell_type": "code",
   "execution_count": 2,
   "metadata": {},
   "outputs": [],
   "source": [
    "# Create a function to save the DataFrames to CSV files\n",
    "def save_csv_file(df, file_path):\n",
    "    \"\"\" \n",
    "    Save a DataFrame to a CSV file at the specified file path.\n",
    "\n",
    "    Parameters:\n",
    "    - df: DataFrame to save\n",
    "    - file_path: Path to save the CSV file\n",
    "    \"\"\"\n",
    "    \n",
    "    # Check if the parent directory exists\n",
    "    if not file_path.parent.exists():\n",
    "        print(f\"Error: The directory `{file_path.parent}` does not exist.\")\n",
    "        return\n",
    "    \n",
    "    if file_path.exists():\n",
    "        print(f\"File `{file_path.name}` already exists. Overwriting file.\")\n",
    "        file_path.unlink()\n",
    "    \n",
    "    # Save the DataFrame to the specified file path\n",
    "    df.to_csv(file_path, index=False)\n",
    "    print(f\"File saved as `{file_path.name}`\")"
   ]
  },
  {
   "cell_type": "code",
   "execution_count": null,
   "metadata": {},
   "outputs": [],
   "source": [
    "# Load the main Florida DataFrame that we will be merging with the income data\n",
    "fl_df = pd.read_csv(\n",
    "    Path(\"../../../../../data/processed_data/fl_ev_registration_population.csv\"),\n",
    ")\n",
    "\n",
    "print(\"Shape:\", fl_df.shape)\n",
    "fl_df"
   ]
  },
  {
   "cell_type": "code",
   "execution_count": null,
   "metadata": {},
   "outputs": [],
   "source": [
    "# Load the Florida Income DataFrame\n",
    "fl_income_df = pd.read_csv(\n",
    "    Path(\"../../../../../data/processed_data/fl_county_income.csv\"),\n",
    ")\n",
    "\n",
    "# Display the DataFrame\n",
    "print(\"Shape:\", fl_income_df.shape)\n",
    "fl_income_df.head()"
   ]
  },
  {
   "cell_type": "code",
   "execution_count": null,
   "metadata": {},
   "outputs": [],
   "source": [
    "# Inspect both County Values in both DataFrames\n",
    "# To ensure that the county names are the same in both DataFrames, we will compare the unique county values in each DataFrame.\n",
    "main_df_counties = set(fl_df['county'])\n",
    "income_df_counties = set(fl_income_df['County']) \n",
    "\n",
    "# Find the counties that don't match\n",
    "mismatches = main_df_counties.symmetric_difference(income_df_counties)\n",
    "\n",
    "# Show mismatches\n",
    "print(\"Counties that don't match:\", mismatches)"
   ]
  },
  {
   "cell_type": "markdown",
   "metadata": {},
   "source": [
    "Note: Confirmed `Lafayette County` is not in the main dataframe we will be merging into. No action is needed. If it was and if it were named differently we would fix the name and then merge it."
   ]
  },
  {
   "cell_type": "code",
   "execution_count": null,
   "metadata": {},
   "outputs": [],
   "source": [
    "# Reshape the DataFrame 'fl_income_df' from wide format to long format using the melt function\n",
    "# Param 1: The DataFrame to be reshaped\n",
    "# Param 2: Column(s) to use as identifier variables (these columns will remain as-is)\n",
    "# Param 3: Name of the new column that will contain the original column names (years in this case)\n",
    "# Param 4: Name of the new column that will contain the values from the original columns\n",
    "fl_income_df = pd.melt(\n",
    "    fl_income_df, \n",
    "    id_vars=[\"County\"], \n",
    "    var_name=\"year\", \n",
    "    value_name=\"median_income\", \n",
    ")\n",
    "\n",
    "# Display the DataFrame \n",
    "print(\"Shape:\", fl_income_df.shape)\n",
    "fl_income_df.head()"
   ]
  },
  {
   "cell_type": "code",
   "execution_count": null,
   "metadata": {},
   "outputs": [],
   "source": [
    "# From the 'year' column, extract only the year values using the 'str.extract' function\n",
    "# The regular expression '\\d{4}' will match any four consecutive digits\n",
    "fl_income_df['year'] = fl_income_df['year'].str.extract('(\\d{4})')\n",
    "\n",
    "# Confirm that the 'year' column only contains year values\n",
    "print(\"Shape:\", fl_income_df.shape)\n",
    "fl_income_df"
   ]
  },
  {
   "cell_type": "code",
   "execution_count": null,
   "metadata": {},
   "outputs": [],
   "source": [
    "# Inspect the data types of the columns in both DataFrames\n",
    "fl_income_df.info()"
   ]
  },
  {
   "cell_type": "code",
   "execution_count": null,
   "metadata": {},
   "outputs": [],
   "source": [
    "# Convert the 'year' column to an integer data type\n",
    "fl_income_df[\"year\"] = fl_income_df[\"year\"].astype(int)\n",
    "\n",
    "fl_income_df.info()"
   ]
  },
  {
   "cell_type": "code",
   "execution_count": null,
   "metadata": {},
   "outputs": [],
   "source": [
    "# Merge the main California DataFrame with the reshaped California Income DataFrame\n",
    "fl_df_clean = pd.merge(fl_df, fl_income_df, left_on=['county', 'year'], right_on=['County', 'year'], how='left')\n",
    "\n",
    "# Remove the redundant 'County' column\n",
    "fl_df_clean.drop(columns=['County'], inplace=True)\n",
    "\n",
    "print(\"Shape:\", fl_df_clean.shape)\n",
    "fl_df_clean.head()"
   ]
  },
  {
   "cell_type": "code",
   "execution_count": null,
   "metadata": {},
   "outputs": [],
   "source": [
    "# Inspect for missing values\n",
    "fl_df_clean.isnull().sum()"
   ]
  },
  {
   "cell_type": "code",
   "execution_count": null,
   "metadata": {},
   "outputs": [],
   "source": [
    "# Save the cleaned California DataFrame to a CSV file\n",
    "file_name = f\"fl_ev_main_dataset.csv\"\n",
    "file_path = Path(f\"../../../../../data/processed_data/{file_name}\")\n",
    "save_csv_file(fl_df_clean, file_path)"
   ]
  },
  {
   "cell_type": "code",
   "execution_count": null,
   "metadata": {},
   "outputs": [],
   "source": []
  }
 ],
 "metadata": {
  "kernelspec": {
   "display_name": "dev",
   "language": "python",
   "name": "python3"
  },
  "language_info": {
   "codemirror_mode": {
    "name": "ipython",
    "version": 3
   },
   "file_extension": ".py",
   "mimetype": "text/x-python",
   "name": "python",
   "nbconvert_exporter": "python",
   "pygments_lexer": "ipython3",
   "version": "3.10.14"
  }
 },
 "nbformat": 4,
 "nbformat_minor": 2
}
