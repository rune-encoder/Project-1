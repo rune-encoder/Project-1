{
 "cells": [
  {
   "cell_type": "code",
   "execution_count": 10,
   "id": "6448964c-08ff-4474-99d3-cb1d4498906f",
   "metadata": {},
   "outputs": [],
   "source": [
    "import pandas as pd\n",
    "from pathlib import Path\n",
    "import datetime as dt\n",
    "import numpy as np"
   ]
  },
  {
   "cell_type": "code",
   "execution_count": 25,
   "id": "bef66b99-4ed8-46ba-85ce-c83ee29e3468",
   "metadata": {},
   "outputs": [],
   "source": [
    "#Import Raw Median Income by County data\n",
    "tx_raw_17_df = pd.read_csv(Path(\"../../../../data/raw_data/median_income/ACSST5Y2017.S1903-2024-09-04T005723.csv\"))\n",
    "tx_raw_18_df = pd.read_csv(Path(\"../../../../data/raw_data/median_income/ACSST5Y2018.S1903-2024-09-04T005814.csv\"))\n",
    "tx_raw_19_df = pd.read_csv(Path(\"../../../../data/raw_data/median_income/ACSST5Y2019.S1903-2024-09-04T005836.csv\"))\n",
    "tx_raw_20_df = pd.read_csv(Path(\"../../../../data/raw_data/median_income/ACSST5Y2020.S1903-2024-09-04T005914.csv\"))\n",
    "tx_raw_21_df = pd.read_csv(Path(\"../../../../data/raw_data/median_income/ACSST5Y2021.S1903-2024-09-04T005929.csv\"))\n",
    "tx_raw_22_df = pd.read_csv(Path(\"../../../../data/raw_data/median_income/ACSST5Y2022.S1903-2024-09-04T005946.csv\"))\n"
   ]
  },
  {
   "cell_type": "markdown",
   "id": "913ba0cc-8a86-4a57-bf38-87ff0a7ad435",
   "metadata": {},
   "source": [
    "**2017 Data**"
   ]
  },
  {
   "cell_type": "code",
   "execution_count": null,
   "id": "ff63eafc-06c1-4c35-89ff-9dbc3e24a799",
   "metadata": {},
   "outputs": [],
   "source": []
  }
 ],
 "metadata": {
  "kernelspec": {
   "display_name": "Python 3 (ipykernel)",
   "language": "python",
   "name": "python3"
  },
  "language_info": {
   "codemirror_mode": {
    "name": "ipython",
    "version": 3
   },
   "file_extension": ".py",
   "mimetype": "text/x-python",
   "name": "python",
   "nbconvert_exporter": "python",
   "pygments_lexer": "ipython3",
   "version": "3.12.4"
  }
 },
 "nbformat": 4,
 "nbformat_minor": 5
}
