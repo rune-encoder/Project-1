{
 "cells": [
  {
   "cell_type": "code",
   "execution_count": null,
   "metadata": {},
   "outputs": [],
   "source": [
    "from pathlib import Path\n",
    "import datetime as dt\n",
    "import pandas as pd"
   ]
  },
  {
   "cell_type": "code",
   "execution_count": null,
   "metadata": {},
   "outputs": [],
   "source": [
    "# Create a function to save the DataFrames to CSV files\n",
    "def save_csv_file(df, file_path):\n",
    "    \"\"\" \n",
    "    Save a DataFrame to a CSV file at the specified file path.\n",
    "\n",
    "    Parameters:\n",
    "    - df: DataFrame to save\n",
    "    - file_path: Path to save the CSV file\n",
    "    \"\"\"\n",
    "    \n",
    "    # Check if the parent directory exists\n",
    "    if not file_path.parent.exists():\n",
    "        print(f\"Error: The directory `{file_path.parent}` does not exist.\")\n",
    "        return\n",
    "    \n",
    "    if file_path.exists():\n",
    "        print(f\"File `{file_path.name}` already exists. Overwriting file.\")\n",
    "        file_path.unlink()\n",
    "    \n",
    "    # Save the DataFrame to the specified file path\n",
    "    df.to_csv(file_path, index=False)\n",
    "    print(f\"File saved as `{file_path.name}`\")"
   ]
  },
  {
   "cell_type": "code",
   "execution_count": null,
   "metadata": {},
   "outputs": [],
   "source": [
    "ca_income_df = pd.read_csv(\n",
    "    Path(\"../../../../../data/processed_data/ca_ev_registration_population.csv\"),\n",
    ")\n",
    "\n",
    "# ca_income_df.sort_values([\"year\", \"state\", \"county\"], inplace=True)\n",
    "\n",
    "print(\"Shape:\", ca_income_df.shape)\n",
    "ca_income_df"
   ]
  }
 ],
 "metadata": {
  "language_info": {
   "name": "python"
  }
 },
 "nbformat": 4,
 "nbformat_minor": 2
}
