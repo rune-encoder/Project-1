{
 "cells": [
  {
   "cell_type": "code",
   "execution_count": null,
   "id": "6448964c-08ff-4474-99d3-cb1d4498906f",
   "metadata": {},
   "outputs": [],
   "source": [
    "import pandas as pd\n",
    "from pathlib import Path\n",
    "import datetime as dt"
   ]
  },
  {
   "cell_type": "code",
   "execution_count": null,
   "id": "bef66b99-4ed8-46ba-85ce-c83ee29e3468",
   "metadata": {},
   "outputs": [],
   "source": [
    "#Import Raw Median Income by County data\n",
    "tx_raw_18_df = pd.read_csv(Path(\"../../../../data/raw_data/ACSST5Y2018.S1903-2024-09-04T005331.csv\"))"
   ]
  }
 ],
 "metadata": {
  "kernelspec": {
   "display_name": "Python 3 (ipykernel)",
   "language": "python",
   "name": "python3"
  },
  "language_info": {
   "codemirror_mode": {
    "name": "ipython",
    "version": 3
   },
   "file_extension": ".py",
   "mimetype": "text/x-python",
   "name": "python",
   "nbconvert_exporter": "python",
   "pygments_lexer": "ipython3",
   "version": "3.12.4"
  }
 },
 "nbformat": 4,
 "nbformat_minor": 5
}
