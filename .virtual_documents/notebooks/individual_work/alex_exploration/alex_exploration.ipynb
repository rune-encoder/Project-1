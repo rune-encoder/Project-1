from pathlib import Path
import datetime as dt
import pandas as pd
import numpy as np


ca_fuelstation_df = pd.read_csv(
    Path("../../../data/raw_data/CA_2024_alt_fuel_stations (Aug 30 2024)-2.csv"),
    index_col="Open Date",
    parse_dates=True,
)

print("Shape:", ca_fuelstation_df.shape)
ca_fuelstation_df.sort_values("Open Date")

display(ca_fuelstation_df.head())
display(ca_fuelstation_df.tail())


ca_fuelstation_df.info()


select_columns = ["State","City","ZIP"]

df = ca_fuelstation_df[select_columns].reset_index()
df


df.rename(columns={
    "Open Date": "date",
    "State": "state",
    "City": "city",
    "ZIP": "zip_code",
},inplace=True)
df


df.sort_values("date",inplace=True)
df


df.info()



df["zip_code"].isnull().sum()


df.loc[df["zip_code"].isnull()]


#df["zip_code"]
zip_code_list = df["zip_code"].unique().tolist()
#zip_code_list


def cleaned_zip_code(value):
    if type(value) is int or type(value) is float:
       return str(int(value))
    elif type(value) is str and value.isdigit():
        return value
    elif pd.isna(value):
        return np.nan
    else: 
        return np.nan
    
        

df["zip_code"].apply(cleaned_zip_code)


df["zip_code"] = df["zip_code"].astype(int)
df


type(df["zip_code"].values[0])





from pathlib import Path
import datetime as dt
import pandas as pd
import numpy as np


fl_fuelstation_df = pd.read_csv(
    Path("../../../data/raw_data/FL_2024_alt_fuel_stations (Aug 30 2024)-2.csv"),
    index_col="Open Date",
    parse_dates=True,
)

print("Shape:", fl_fuelstation_df.shape)
fl_fuelstation_df.sort_values("Open Date")

display(fl_fuelstation_df.head())
display(fl_fuelstation_df.tail())


fl_fuelstation_df.info()


select_columns = ["State","City","ZIP"]

df = fl_fuelstation_df[select_columns].reset_index()
df


df.rename(columns={
    "Open Date": "date",
    "State": "state",
    "City": "city",
    "ZIP": "zip_code",
},inplace=True)
df


df.sort_values("date",inplace=True)
df


df.info()


df["zip_code"].isnull().sum()


df.loc[df["zip_code"].isnull()]


#df["zip_code"]
zip_code_list = df["zip_code"].unique().tolist()
#zip_code_list


def cleaned_zip_code(value):
    if type(value) is int or type(value) is float:
       return str(int(value))
    elif type(value) is str and value.isdigit():
        return value
    elif pd.isna(value):
        return np.nan
    else: 
        return np.nan
    
        

df["zip_code"].apply(cleaned_zip_code)


df["zip_code"] = df["zip_code"].astype(int)
df


type(df["zip_code"].values[0])





from pathlib import Path
import datetime as dt
import pandas as pd
import numpy as np


tx_fuelstation_df = pd.read_csv(
    Path("../../../data/raw_data/TX_2024_alt_fuel_stations (Aug 30 2024)-3.csv"),
    index_col="Open Date",
    parse_dates=True,
)

print("Shape:", tx_fuelstation_df.shape)
tx_fuelstation_df.sort_values("Open Date")

display(tx_fuelstation_df.head())
display(tx_fuelstation_df.tail())


tx_fuelstation_df.info()


select_columns = ["State","City","ZIP"]

df = tx_fuelstation_df[select_columns].reset_index()
df


df.rename(columns={
    "Open Date": "date",
    "State": "state",
    "City": "city",
    "ZIP": "zip_code",
},inplace=True)
df


df.sort_values("date",inplace=True)
df


df.info()


df["zip_code"].isnull().sum()


df.loc[df["zip_code"].isnull()]


#df["zip_code"]
zip_code_list = df["zip_code"].unique().tolist()
#zip_code_list


def cleaned_zip_code(value):
    if type(value) is int or type(value) is float:
       return str(int(value))
    elif type(value) is str and value.isdigit():
        return value
    elif pd.isna(value):
        return np.nan
    else: 
        return np.nan
    
        

df["zip_code"].apply(cleaned_zip_code)


df["zip_code"] = df["zip_code"].astype(int)
df


type(df["zip_code"].values[0])






